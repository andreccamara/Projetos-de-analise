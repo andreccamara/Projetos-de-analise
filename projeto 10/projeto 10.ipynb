{
 "cells": [
  {
   "cell_type": "markdown",
   "metadata": {},
   "source": [
    "# Sumário\n",
    "<a id='sumario'></a>\n",
    "- [sumario](#sumario)  \n",
    "- [1 Carregando dados](#carregando)  \n",
    "- [2 Tratando dados](#tratando)  \n",
    "  - [2.1 Renomeando as colunas](#renomeando)  \n",
    "  - [2.2 Verificado valores e tipos](#tipo)  \n",
    "  - [2.3 Adicionando colunas](#adicionando)  \n",
    "     - [2.3.1 coluna de data e hora](#datahora)  \n",
    "     - [2.3.2 coluna para datas](#data)  \n",
    "\n",
    "- [3  Análise de dados](#analisando)  \n",
    "  - [3.1 quantidade de eventos](#qe)  \n",
    "  - [3.2 quantidade de usuarios](#qu)  \n",
    "  - [3.3 quantidade de eventos medio](#qem)  \n",
    "  - [3.4 grafico por data](#graficodata)  \n",
    "  - [3.5 conclusões sobre as datas](#cd)  \n",
    "  - [3.6 filtrando datas](#filtrodata)  \n",
    "  - [3.7 conclusões](#c1)  \n",
    "  \n",
    "- [4 Analisando o funil de eventos](#funil)  \n",
    "    - [4.1 frequencia de eventos](#frequenciaevento)  \n",
    "    - [4.2 usuarios por eventos](#frequenciaevento)  \n",
    "    - [4.3 ordem de ações e funil](#ordemacao)  \n",
    "    - [4.4 usuarios por etapas](#usuarioetapa)  \n",
    "    - [4.5 conclusões](#c2)  \n",
    "    \n",
    "- [5 Analisando os resultados do experimento](#experimento)  \n",
    "    - [usuarios por grupo](#ug)  \n",
    "    - [testeA/A](#aa)  \n",
    "      - [shapiro](#shap)  \n",
    "      - [teste usuarios por evento](#tue)   \n",
    "          - [teste estatistico evento mais popular](#tep)  \n",
    "          - [teste estatistico universal](#teu)  \n",
    "          - [conclusões sobre divisao dos grupos](#cdg)  \n",
    "    - [testeA/B](#ab)  \n",
    "      - [teste usuarios por evento](#tue2)   \n",
    "      - [teste estatistico evento mais popular](#tep2)  \n",
    "      - [teste estatistico universal](#teu2)  \n",
    "      - [conclusões sobre divisao dos grupos](#cdg2)  \n",
    "    - [redefinição estatistica](#re)  \n",
    "    - [explicações e conclusões](#exp)  \n",
    "      \n",
    "  "
   ]
  },
  {
   "cell_type": "markdown",
   "metadata": {},
   "source": [
    "[sumario](#sumario)\n",
    "##  Carregando dados <a id= \"carregando\"> </a>\n"
   ]
  },
  {
   "cell_type": "code",
   "execution_count": 1,
   "metadata": {},
   "outputs": [],
   "source": [
    "import pandas as pd\n",
    "import numpy as np\n",
    "import math as mth\n",
    "from scipy import stats as st\n",
    "import scipy.stats as stats\n",
    "import datetime as dt\n",
    "import matplotlib.pyplot as plt\n",
    "import math"
   ]
  },
  {
   "cell_type": "code",
   "execution_count": 2,
   "metadata": {},
   "outputs": [],
   "source": [
    "caminho1=\"/datasets/logs_exp_us.csv\"\n",
    "caminho2=\"C:/Users/Nair Corso/Documents/andre/DAnalise/10/logs_exp_us.csv\"\n",
    "try:\n",
    "    df=pd.read_csv(caminho1, sep= '\\t')\n",
    "except:\n",
    "    df=pd.read_csv(caminho2, sep= '\\t')\n",
    "#aparentemente cada dado era separado por espaço, mas era tab. o que é representado por /t"
   ]
  },
  {
   "cell_type": "code",
   "execution_count": 3,
   "metadata": {},
   "outputs": [
    {
     "data": {
      "text/html": [
       "<div>\n",
       "<style scoped>\n",
       "    .dataframe tbody tr th:only-of-type {\n",
       "        vertical-align: middle;\n",
       "    }\n",
       "\n",
       "    .dataframe tbody tr th {\n",
       "        vertical-align: top;\n",
       "    }\n",
       "\n",
       "    .dataframe thead th {\n",
       "        text-align: right;\n",
       "    }\n",
       "</style>\n",
       "<table border=\"1\" class=\"dataframe\">\n",
       "  <thead>\n",
       "    <tr style=\"text-align: right;\">\n",
       "      <th></th>\n",
       "      <th>EventName</th>\n",
       "      <th>DeviceIDHash</th>\n",
       "      <th>EventTimestamp</th>\n",
       "      <th>ExpId</th>\n",
       "    </tr>\n",
       "  </thead>\n",
       "  <tbody>\n",
       "    <tr>\n",
       "      <th>0</th>\n",
       "      <td>MainScreenAppear</td>\n",
       "      <td>4575588528974610257</td>\n",
       "      <td>1564029816</td>\n",
       "      <td>246</td>\n",
       "    </tr>\n",
       "    <tr>\n",
       "      <th>1</th>\n",
       "      <td>MainScreenAppear</td>\n",
       "      <td>7416695313311560658</td>\n",
       "      <td>1564053102</td>\n",
       "      <td>246</td>\n",
       "    </tr>\n",
       "    <tr>\n",
       "      <th>2</th>\n",
       "      <td>PaymentScreenSuccessful</td>\n",
       "      <td>3518123091307005509</td>\n",
       "      <td>1564054127</td>\n",
       "      <td>248</td>\n",
       "    </tr>\n",
       "    <tr>\n",
       "      <th>3</th>\n",
       "      <td>CartScreenAppear</td>\n",
       "      <td>3518123091307005509</td>\n",
       "      <td>1564054127</td>\n",
       "      <td>248</td>\n",
       "    </tr>\n",
       "    <tr>\n",
       "      <th>4</th>\n",
       "      <td>PaymentScreenSuccessful</td>\n",
       "      <td>6217807653094995999</td>\n",
       "      <td>1564055322</td>\n",
       "      <td>248</td>\n",
       "    </tr>\n",
       "    <tr>\n",
       "      <th>...</th>\n",
       "      <td>...</td>\n",
       "      <td>...</td>\n",
       "      <td>...</td>\n",
       "      <td>...</td>\n",
       "    </tr>\n",
       "    <tr>\n",
       "      <th>244121</th>\n",
       "      <td>MainScreenAppear</td>\n",
       "      <td>4599628364049201812</td>\n",
       "      <td>1565212345</td>\n",
       "      <td>247</td>\n",
       "    </tr>\n",
       "    <tr>\n",
       "      <th>244122</th>\n",
       "      <td>MainScreenAppear</td>\n",
       "      <td>5849806612437486590</td>\n",
       "      <td>1565212439</td>\n",
       "      <td>246</td>\n",
       "    </tr>\n",
       "    <tr>\n",
       "      <th>244123</th>\n",
       "      <td>MainScreenAppear</td>\n",
       "      <td>5746969938801999050</td>\n",
       "      <td>1565212483</td>\n",
       "      <td>246</td>\n",
       "    </tr>\n",
       "    <tr>\n",
       "      <th>244124</th>\n",
       "      <td>MainScreenAppear</td>\n",
       "      <td>5746969938801999050</td>\n",
       "      <td>1565212498</td>\n",
       "      <td>246</td>\n",
       "    </tr>\n",
       "    <tr>\n",
       "      <th>244125</th>\n",
       "      <td>OffersScreenAppear</td>\n",
       "      <td>5746969938801999050</td>\n",
       "      <td>1565212517</td>\n",
       "      <td>246</td>\n",
       "    </tr>\n",
       "  </tbody>\n",
       "</table>\n",
       "<p>244126 rows × 4 columns</p>\n",
       "</div>"
      ],
      "text/plain": [
       "                      EventName         DeviceIDHash  EventTimestamp  ExpId\n",
       "0              MainScreenAppear  4575588528974610257      1564029816    246\n",
       "1              MainScreenAppear  7416695313311560658      1564053102    246\n",
       "2       PaymentScreenSuccessful  3518123091307005509      1564054127    248\n",
       "3              CartScreenAppear  3518123091307005509      1564054127    248\n",
       "4       PaymentScreenSuccessful  6217807653094995999      1564055322    248\n",
       "...                         ...                  ...             ...    ...\n",
       "244121         MainScreenAppear  4599628364049201812      1565212345    247\n",
       "244122         MainScreenAppear  5849806612437486590      1565212439    246\n",
       "244123         MainScreenAppear  5746969938801999050      1565212483    246\n",
       "244124         MainScreenAppear  5746969938801999050      1565212498    246\n",
       "244125       OffersScreenAppear  5746969938801999050      1565212517    246\n",
       "\n",
       "[244126 rows x 4 columns]"
      ]
     },
     "execution_count": 3,
     "metadata": {},
     "output_type": "execute_result"
    }
   ],
   "source": [
    "df"
   ]
  },
  {
   "cell_type": "markdown",
   "metadata": {},
   "source": [
    "[sumario](#sumario)\n",
    "\n",
    "## Tratando dados<a id= \"tratando\"> </a>"
   ]
  },
  {
   "cell_type": "markdown",
   "metadata": {},
   "source": [
    "###  Renomeando as colunas <a id='renomeando'> </a>"
   ]
  },
  {
   "cell_type": "code",
   "execution_count": 4,
   "metadata": {},
   "outputs": [],
   "source": [
    "df.columns=['nome','id','etc','grupo']\n"
   ]
  },
  {
   "cell_type": "markdown",
   "metadata": {},
   "source": [
    "###  Verificado valores e tipos<a id='tipo'></a>"
   ]
  },
  {
   "cell_type": "code",
   "execution_count": 5,
   "metadata": {
    "scrolled": true
   },
   "outputs": [
    {
     "name": "stdout",
     "output_type": "stream",
     "text": [
      "<class 'pandas.core.frame.DataFrame'>\n",
      "RangeIndex: 244126 entries, 0 to 244125\n",
      "Data columns (total 4 columns):\n",
      " #   Column  Non-Null Count   Dtype \n",
      "---  ------  --------------   ----- \n",
      " 0   nome    244126 non-null  object\n",
      " 1   id      244126 non-null  int64 \n",
      " 2   etc     244126 non-null  int64 \n",
      " 3   grupo   244126 non-null  int64 \n",
      "dtypes: int64(3), object(1)\n",
      "memory usage: 7.5+ MB\n"
     ]
    }
   ],
   "source": [
    "df.info()"
   ]
  },
  {
   "cell_type": "code",
   "execution_count": 6,
   "metadata": {},
   "outputs": [],
   "source": [
    "df['dataHora'] = pd.to_datetime(df['etc'], utc=True, unit='s')\n"
   ]
  },
  {
   "cell_type": "markdown",
   "metadata": {},
   "source": [
    "###  Adicionando colunas<a id='adicionando'></a>"
   ]
  },
  {
   "cell_type": "markdown",
   "metadata": {},
   "source": [
    "####  coluna de data e hora<a id='datahora'></a>"
   ]
  },
  {
   "cell_type": "code",
   "execution_count": 7,
   "metadata": {},
   "outputs": [],
   "source": [
    "df['hora']= df['dataHora'].dt.time"
   ]
  },
  {
   "cell_type": "markdown",
   "metadata": {},
   "source": [
    "#### coluna para datas<a id='data'></a>"
   ]
  },
  {
   "cell_type": "code",
   "execution_count": 8,
   "metadata": {},
   "outputs": [],
   "source": [
    "df['data']= df['dataHora'].dt.date"
   ]
  },
  {
   "cell_type": "markdown",
   "metadata": {},
   "source": [
    "df.columns=['nome','id','ets','grupo', 'datahora','hora','data']\n"
   ]
  },
  {
   "cell_type": "code",
   "execution_count": 9,
   "metadata": {},
   "outputs": [],
   "source": [
    "df=df.drop(columns='etc')\n"
   ]
  },
  {
   "cell_type": "markdown",
   "metadata": {},
   "source": [
    "[sumario](#sumario)\n",
    "\n",
    "##   Análise de dados <a id='sumario'></a>"
   ]
  },
  {
   "cell_type": "markdown",
   "metadata": {},
   "source": [
    "### quantidade de eventos <a id='qe'></a> "
   ]
  },
  {
   "cell_type": "code",
   "execution_count": 10,
   "metadata": {},
   "outputs": [
    {
     "data": {
      "text/plain": [
       "nome\n",
       "MainScreenAppear           119205\n",
       "OffersScreenAppear          46825\n",
       "CartScreenAppear            42731\n",
       "PaymentScreenSuccessful     34313\n",
       "Tutorial                     1052\n",
       "Name: count, dtype: int64"
      ]
     },
     "execution_count": 10,
     "metadata": {},
     "output_type": "execute_result"
    }
   ],
   "source": [
    "#Quantos eventos ficam nos diários? \n",
    "df['nome'].value_counts()\n",
    "#resp. 5"
   ]
  },
  {
   "cell_type": "markdown",
   "metadata": {},
   "source": [
    "### quantidade de usuarios <a id='qu'></a> "
   ]
  },
  {
   "cell_type": "code",
   "execution_count": 11,
   "metadata": {},
   "outputs": [
    {
     "data": {
      "text/plain": [
       "7551"
      ]
     },
     "execution_count": 11,
     "metadata": {},
     "output_type": "execute_result"
    }
   ],
   "source": [
    "df['id'].nunique()"
   ]
  },
  {
   "cell_type": "code",
   "execution_count": 12,
   "metadata": {},
   "outputs": [
    {
     "data": {
      "text/plain": [
       "244126"
      ]
     },
     "execution_count": 12,
     "metadata": {},
     "output_type": "execute_result"
    }
   ],
   "source": [
    "df.duplicated().count()"
   ]
  },
  {
   "cell_type": "markdown",
   "metadata": {},
   "source": [
    "### quantidade de eventos em media por usuario <a id='qem'></a>  "
   ]
  },
  {
   "cell_type": "code",
   "execution_count": 13,
   "metadata": {},
   "outputs": [
    {
     "data": {
      "text/plain": [
       "nome\n",
       "MainScreenAppear           15.786651\n",
       "OffersScreenAppear          6.201165\n",
       "CartScreenAppear            5.658986\n",
       "PaymentScreenSuccessful     4.544166\n",
       "Tutorial                    0.139319\n",
       "Name: count, dtype: float64"
      ]
     },
     "execution_count": 13,
     "metadata": {},
     "output_type": "execute_result"
    }
   ],
   "source": [
    "df['nome'].value_counts()/df['id'].nunique()"
   ]
  },
  {
   "cell_type": "markdown",
   "metadata": {},
   "source": [
    "<font color= 'green'>temos que cada usuario aciona uma media de:  \n",
    "15 vezes o evento tela principal, 6 vezes a ela de oferta, 5,6 a tela de carrinho e 4,5 a tela de pagamento realizado"
   ]
  },
  {
   "cell_type": "code",
   "execution_count": 14,
   "metadata": {},
   "outputs": [
    {
     "data": {
      "text/plain": [
       "32.33028737915508"
      ]
     },
     "execution_count": 14,
     "metadata": {},
     "output_type": "execute_result"
    }
   ],
   "source": [
    "df['nome'].count()/df['id'].nunique()"
   ]
  },
  {
   "cell_type": "markdown",
   "metadata": {},
   "source": [
    "### grafico por data <a id='graficodata'></a>  "
   ]
  },
  {
   "cell_type": "markdown",
   "metadata": {},
   "source": [
    "vamos verificar a vaiação temporal da coleta de dados:"
   ]
  },
  {
   "cell_type": "code",
   "execution_count": 15,
   "metadata": {},
   "outputs": [
    {
     "data": {
      "text/plain": [
       "datetime.date(2019, 8, 7)"
      ]
     },
     "execution_count": 15,
     "metadata": {},
     "output_type": "execute_result"
    }
   ],
   "source": [
    "df['data'].min(),\n",
    "df['data'].max()"
   ]
  },
  {
   "cell_type": "code",
   "execution_count": 16,
   "metadata": {},
   "outputs": [
    {
     "data": {
      "text/plain": [
       "datetime.timedelta(days=13)"
      ]
     },
     "execution_count": 16,
     "metadata": {},
     "output_type": "execute_result"
    }
   ],
   "source": [
    "(df['data'].max())-(df['data'].min())"
   ]
  },
  {
   "cell_type": "markdown",
   "metadata": {},
   "source": [
    "<font color = 'blue'>13 dias!  \n",
    "agora vamos ver a distribuição em um grafico"
   ]
  },
  {
   "cell_type": "code",
   "execution_count": 17,
   "metadata": {
    "scrolled": true
   },
   "outputs": [
    {
     "data": {
      "text/plain": [
       "(array([9.0000e+00, 3.1000e+01, 0.0000e+00, 5.5000e+01, 1.0500e+02,\n",
       "        0.0000e+00, 1.8400e+02, 4.1300e+02, 0.0000e+00, 2.0310e+03,\n",
       "        3.6229e+04, 0.0000e+00, 3.5606e+04, 3.3351e+04, 0.0000e+00,\n",
       "        3.3033e+04, 3.6113e+04, 0.0000e+00, 3.5822e+04, 3.1144e+04]),\n",
       " array([18102.  , 18102.65, 18103.3 , 18103.95, 18104.6 , 18105.25,\n",
       "        18105.9 , 18106.55, 18107.2 , 18107.85, 18108.5 , 18109.15,\n",
       "        18109.8 , 18110.45, 18111.1 , 18111.75, 18112.4 , 18113.05,\n",
       "        18113.7 , 18114.35, 18115.  ]),\n",
       " <BarContainer object of 20 artists>)"
      ]
     },
     "execution_count": 17,
     "metadata": {},
     "output_type": "execute_result"
    },
    {
     "data": {
      "image/png": "[encoded data removed]",
      "text/plain": [
       "<Figure size 1200x600 with 1 Axes>"
      ]
     },
     "metadata": {},
     "output_type": "display_data"
    }
   ],
   "source": [
    "plt.figure(figsize=(12, 6))\n",
    "\n",
    "# Plota o histograma\n",
    "plt.hist(df['data'], bins=20)\n"
   ]
  },
  {
   "cell_type": "markdown",
   "metadata": {},
   "source": [
    "### conclusões sobre as datas <a id='cd'></a>  "
   ]
  },
  {
   "cell_type": "markdown",
   "metadata": {},
   "source": [
    "<font color='green'>\n",
    "\n",
    "Surgiu um problema! os dados de antes de agosto são muito poucos, talvez os eventos desse periodo não tenham sido registrados, ou repassados inteiramente.\n",
    "\n",
    "Assim, quase todos os dados são referentes ao mês 8, ou seja, agosto. Os poucos dados de julho podem até prejudicar a analise e compreenção da distribuição dos dados, portanto é interessante filtrar tudo para agosto apenas."
   ]
  },
  {
   "cell_type": "markdown",
   "metadata": {},
   "source": [
    "### filtrando datas<a id='filtrodata'></a> "
   ]
  },
  {
   "cell_type": "markdown",
   "metadata": {},
   "source": [
    "<font color= blue>\n",
    "passo a passo: criaremos uma coluna com a diferença de dias entre a data minima e a data do dado, após isso passaremos a diferença de tempo em dias para um numero inteiro. faremos isso dividindo o dado de tempo por exatamente um dia. Isso é possível ao metodo timedelta, com argumento de 1 (quantidade) e D(unidade dia). Assim:  np.timedelta64(1,'D').  \n",
    "após isso, passamos para o tipo inteiro e somamos 1 dia para trabalharmos com numeros ordinais (ex.:1º, 2º , 3º dia de coleta de dados)  \n",
    "por fim filtraremos os dados apenas para os dias de agosto e reiniciaremos a contagem de dias considerando agora, o dia 1º/08/2019 como o primeiro dia."
   ]
  },
  {
   "cell_type": "code",
   "execution_count": 18,
   "metadata": {},
   "outputs": [],
   "source": [
    "df['dia']=df['data']-df['data'].min()\n",
    "df['dia']=((df['dia']/np.timedelta64(1,'D')).round().astype('int'))+1"
   ]
  },
  {
   "cell_type": "code",
   "execution_count": 19,
   "metadata": {},
   "outputs": [
    {
     "data": {
      "text/html": [
       "<div>\n",
       "<style scoped>\n",
       "    .dataframe tbody tr th:only-of-type {\n",
       "        vertical-align: middle;\n",
       "    }\n",
       "\n",
       "    .dataframe tbody tr th {\n",
       "        vertical-align: top;\n",
       "    }\n",
       "\n",
       "    .dataframe thead th {\n",
       "        text-align: right;\n",
       "    }\n",
       "</style>\n",
       "<table border=\"1\" class=\"dataframe\">\n",
       "  <thead>\n",
       "    <tr style=\"text-align: right;\">\n",
       "      <th></th>\n",
       "      <th>nome</th>\n",
       "      <th>id</th>\n",
       "      <th>grupo</th>\n",
       "      <th>dataHora</th>\n",
       "      <th>hora</th>\n",
       "      <th>data</th>\n",
       "      <th>dia</th>\n",
       "    </tr>\n",
       "  </thead>\n",
       "  <tbody>\n",
       "    <tr>\n",
       "      <th>0</th>\n",
       "      <td>MainScreenAppear</td>\n",
       "      <td>4575588528974610257</td>\n",
       "      <td>246</td>\n",
       "      <td>2019-07-25 04:43:36+00:00</td>\n",
       "      <td>04:43:36</td>\n",
       "      <td>2019-07-25</td>\n",
       "      <td>1</td>\n",
       "    </tr>\n",
       "    <tr>\n",
       "      <th>1</th>\n",
       "      <td>MainScreenAppear</td>\n",
       "      <td>7416695313311560658</td>\n",
       "      <td>246</td>\n",
       "      <td>2019-07-25 11:11:42+00:00</td>\n",
       "      <td>11:11:42</td>\n",
       "      <td>2019-07-25</td>\n",
       "      <td>1</td>\n",
       "    </tr>\n",
       "    <tr>\n",
       "      <th>2</th>\n",
       "      <td>PaymentScreenSuccessful</td>\n",
       "      <td>3518123091307005509</td>\n",
       "      <td>248</td>\n",
       "      <td>2019-07-25 11:28:47+00:00</td>\n",
       "      <td>11:28:47</td>\n",
       "      <td>2019-07-25</td>\n",
       "      <td>1</td>\n",
       "    </tr>\n",
       "    <tr>\n",
       "      <th>3</th>\n",
       "      <td>CartScreenAppear</td>\n",
       "      <td>3518123091307005509</td>\n",
       "      <td>248</td>\n",
       "      <td>2019-07-25 11:28:47+00:00</td>\n",
       "      <td>11:28:47</td>\n",
       "      <td>2019-07-25</td>\n",
       "      <td>1</td>\n",
       "    </tr>\n",
       "    <tr>\n",
       "      <th>4</th>\n",
       "      <td>PaymentScreenSuccessful</td>\n",
       "      <td>6217807653094995999</td>\n",
       "      <td>248</td>\n",
       "      <td>2019-07-25 11:48:42+00:00</td>\n",
       "      <td>11:48:42</td>\n",
       "      <td>2019-07-25</td>\n",
       "      <td>1</td>\n",
       "    </tr>\n",
       "    <tr>\n",
       "      <th>...</th>\n",
       "      <td>...</td>\n",
       "      <td>...</td>\n",
       "      <td>...</td>\n",
       "      <td>...</td>\n",
       "      <td>...</td>\n",
       "      <td>...</td>\n",
       "      <td>...</td>\n",
       "    </tr>\n",
       "    <tr>\n",
       "      <th>244121</th>\n",
       "      <td>MainScreenAppear</td>\n",
       "      <td>4599628364049201812</td>\n",
       "      <td>247</td>\n",
       "      <td>2019-08-07 21:12:25+00:00</td>\n",
       "      <td>21:12:25</td>\n",
       "      <td>2019-08-07</td>\n",
       "      <td>14</td>\n",
       "    </tr>\n",
       "    <tr>\n",
       "      <th>244122</th>\n",
       "      <td>MainScreenAppear</td>\n",
       "      <td>5849806612437486590</td>\n",
       "      <td>246</td>\n",
       "      <td>2019-08-07 21:13:59+00:00</td>\n",
       "      <td>21:13:59</td>\n",
       "      <td>2019-08-07</td>\n",
       "      <td>14</td>\n",
       "    </tr>\n",
       "    <tr>\n",
       "      <th>244123</th>\n",
       "      <td>MainScreenAppear</td>\n",
       "      <td>5746969938801999050</td>\n",
       "      <td>246</td>\n",
       "      <td>2019-08-07 21:14:43+00:00</td>\n",
       "      <td>21:14:43</td>\n",
       "      <td>2019-08-07</td>\n",
       "      <td>14</td>\n",
       "    </tr>\n",
       "    <tr>\n",
       "      <th>244124</th>\n",
       "      <td>MainScreenAppear</td>\n",
       "      <td>5746969938801999050</td>\n",
       "      <td>246</td>\n",
       "      <td>2019-08-07 21:14:58+00:00</td>\n",
       "      <td>21:14:58</td>\n",
       "      <td>2019-08-07</td>\n",
       "      <td>14</td>\n",
       "    </tr>\n",
       "    <tr>\n",
       "      <th>244125</th>\n",
       "      <td>OffersScreenAppear</td>\n",
       "      <td>5746969938801999050</td>\n",
       "      <td>246</td>\n",
       "      <td>2019-08-07 21:15:17+00:00</td>\n",
       "      <td>21:15:17</td>\n",
       "      <td>2019-08-07</td>\n",
       "      <td>14</td>\n",
       "    </tr>\n",
       "  </tbody>\n",
       "</table>\n",
       "<p>244126 rows × 7 columns</p>\n",
       "</div>"
      ],
      "text/plain": [
       "                           nome                   id  grupo  \\\n",
       "0              MainScreenAppear  4575588528974610257    246   \n",
       "1              MainScreenAppear  7416695313311560658    246   \n",
       "2       PaymentScreenSuccessful  3518123091307005509    248   \n",
       "3              CartScreenAppear  3518123091307005509    248   \n",
       "4       PaymentScreenSuccessful  6217807653094995999    248   \n",
       "...                         ...                  ...    ...   \n",
       "244121         MainScreenAppear  4599628364049201812    247   \n",
       "244122         MainScreenAppear  5849806612437486590    246   \n",
       "244123         MainScreenAppear  5746969938801999050    246   \n",
       "244124         MainScreenAppear  5746969938801999050    246   \n",
       "244125       OffersScreenAppear  5746969938801999050    246   \n",
       "\n",
       "                        dataHora      hora        data  dia  \n",
       "0      2019-07-25 04:43:36+00:00  04:43:36  2019-07-25    1  \n",
       "1      2019-07-25 11:11:42+00:00  11:11:42  2019-07-25    1  \n",
       "2      2019-07-25 11:28:47+00:00  11:28:47  2019-07-25    1  \n",
       "3      2019-07-25 11:28:47+00:00  11:28:47  2019-07-25    1  \n",
       "4      2019-07-25 11:48:42+00:00  11:48:42  2019-07-25    1  \n",
       "...                          ...       ...         ...  ...  \n",
       "244121 2019-08-07 21:12:25+00:00  21:12:25  2019-08-07   14  \n",
       "244122 2019-08-07 21:13:59+00:00  21:13:59  2019-08-07   14  \n",
       "244123 2019-08-07 21:14:43+00:00  21:14:43  2019-08-07   14  \n",
       "244124 2019-08-07 21:14:58+00:00  21:14:58  2019-08-07   14  \n",
       "244125 2019-08-07 21:15:17+00:00  21:15:17  2019-08-07   14  \n",
       "\n",
       "[244126 rows x 7 columns]"
      ]
     },
     "execution_count": 19,
     "metadata": {},
     "output_type": "execute_result"
    }
   ],
   "source": [
    "df"
   ]
  },
  {
   "cell_type": "code",
   "execution_count": 20,
   "metadata": {
    "scrolled": true
   },
   "outputs": [
    {
     "name": "stdout",
     "output_type": "stream",
     "text": [
      "nome    2828\n",
      "dtype: int64\n"
     ]
    },
    {
     "data": {
      "text/html": [
       "<div>\n",
       "<style scoped>\n",
       "    .dataframe tbody tr th:only-of-type {\n",
       "        vertical-align: middle;\n",
       "    }\n",
       "\n",
       "    .dataframe tbody tr th {\n",
       "        vertical-align: top;\n",
       "    }\n",
       "\n",
       "    .dataframe thead th {\n",
       "        text-align: right;\n",
       "    }\n",
       "</style>\n",
       "<table border=\"1\" class=\"dataframe\">\n",
       "  <thead>\n",
       "    <tr style=\"text-align: right;\">\n",
       "      <th></th>\n",
       "      <th>nome</th>\n",
       "      <th>id</th>\n",
       "      <th>grupo</th>\n",
       "      <th>dataHora</th>\n",
       "      <th>hora</th>\n",
       "      <th>data</th>\n",
       "      <th>dia</th>\n",
       "    </tr>\n",
       "  </thead>\n",
       "  <tbody>\n",
       "    <tr>\n",
       "      <th>2828</th>\n",
       "      <td>Tutorial</td>\n",
       "      <td>3737462046622621720</td>\n",
       "      <td>246</td>\n",
       "      <td>2019-08-01 00:07:28+00:00</td>\n",
       "      <td>00:07:28</td>\n",
       "      <td>2019-08-01</td>\n",
       "      <td>8</td>\n",
       "    </tr>\n",
       "    <tr>\n",
       "      <th>2829</th>\n",
       "      <td>MainScreenAppear</td>\n",
       "      <td>3737462046622621720</td>\n",
       "      <td>246</td>\n",
       "      <td>2019-08-01 00:08:00+00:00</td>\n",
       "      <td>00:08:00</td>\n",
       "      <td>2019-08-01</td>\n",
       "      <td>8</td>\n",
       "    </tr>\n",
       "    <tr>\n",
       "      <th>2830</th>\n",
       "      <td>MainScreenAppear</td>\n",
       "      <td>3737462046622621720</td>\n",
       "      <td>246</td>\n",
       "      <td>2019-08-01 00:08:55+00:00</td>\n",
       "      <td>00:08:55</td>\n",
       "      <td>2019-08-01</td>\n",
       "      <td>8</td>\n",
       "    </tr>\n",
       "    <tr>\n",
       "      <th>2831</th>\n",
       "      <td>OffersScreenAppear</td>\n",
       "      <td>3737462046622621720</td>\n",
       "      <td>246</td>\n",
       "      <td>2019-08-01 00:08:58+00:00</td>\n",
       "      <td>00:08:58</td>\n",
       "      <td>2019-08-01</td>\n",
       "      <td>8</td>\n",
       "    </tr>\n",
       "    <tr>\n",
       "      <th>2832</th>\n",
       "      <td>MainScreenAppear</td>\n",
       "      <td>1433840883824088890</td>\n",
       "      <td>247</td>\n",
       "      <td>2019-08-01 00:08:59+00:00</td>\n",
       "      <td>00:08:59</td>\n",
       "      <td>2019-08-01</td>\n",
       "      <td>8</td>\n",
       "    </tr>\n",
       "    <tr>\n",
       "      <th>...</th>\n",
       "      <td>...</td>\n",
       "      <td>...</td>\n",
       "      <td>...</td>\n",
       "      <td>...</td>\n",
       "      <td>...</td>\n",
       "      <td>...</td>\n",
       "      <td>...</td>\n",
       "    </tr>\n",
       "    <tr>\n",
       "      <th>244121</th>\n",
       "      <td>MainScreenAppear</td>\n",
       "      <td>4599628364049201812</td>\n",
       "      <td>247</td>\n",
       "      <td>2019-08-07 21:12:25+00:00</td>\n",
       "      <td>21:12:25</td>\n",
       "      <td>2019-08-07</td>\n",
       "      <td>14</td>\n",
       "    </tr>\n",
       "    <tr>\n",
       "      <th>244122</th>\n",
       "      <td>MainScreenAppear</td>\n",
       "      <td>5849806612437486590</td>\n",
       "      <td>246</td>\n",
       "      <td>2019-08-07 21:13:59+00:00</td>\n",
       "      <td>21:13:59</td>\n",
       "      <td>2019-08-07</td>\n",
       "      <td>14</td>\n",
       "    </tr>\n",
       "    <tr>\n",
       "      <th>244123</th>\n",
       "      <td>MainScreenAppear</td>\n",
       "      <td>5746969938801999050</td>\n",
       "      <td>246</td>\n",
       "      <td>2019-08-07 21:14:43+00:00</td>\n",
       "      <td>21:14:43</td>\n",
       "      <td>2019-08-07</td>\n",
       "      <td>14</td>\n",
       "    </tr>\n",
       "    <tr>\n",
       "      <th>244124</th>\n",
       "      <td>MainScreenAppear</td>\n",
       "      <td>5746969938801999050</td>\n",
       "      <td>246</td>\n",
       "      <td>2019-08-07 21:14:58+00:00</td>\n",
       "      <td>21:14:58</td>\n",
       "      <td>2019-08-07</td>\n",
       "      <td>14</td>\n",
       "    </tr>\n",
       "    <tr>\n",
       "      <th>244125</th>\n",
       "      <td>OffersScreenAppear</td>\n",
       "      <td>5746969938801999050</td>\n",
       "      <td>246</td>\n",
       "      <td>2019-08-07 21:15:17+00:00</td>\n",
       "      <td>21:15:17</td>\n",
       "      <td>2019-08-07</td>\n",
       "      <td>14</td>\n",
       "    </tr>\n",
       "  </tbody>\n",
       "</table>\n",
       "<p>241298 rows × 7 columns</p>\n",
       "</div>"
      ],
      "text/plain": [
       "                      nome                   id  grupo  \\\n",
       "2828              Tutorial  3737462046622621720    246   \n",
       "2829      MainScreenAppear  3737462046622621720    246   \n",
       "2830      MainScreenAppear  3737462046622621720    246   \n",
       "2831    OffersScreenAppear  3737462046622621720    246   \n",
       "2832      MainScreenAppear  1433840883824088890    247   \n",
       "...                    ...                  ...    ...   \n",
       "244121    MainScreenAppear  4599628364049201812    247   \n",
       "244122    MainScreenAppear  5849806612437486590    246   \n",
       "244123    MainScreenAppear  5746969938801999050    246   \n",
       "244124    MainScreenAppear  5746969938801999050    246   \n",
       "244125  OffersScreenAppear  5746969938801999050    246   \n",
       "\n",
       "                        dataHora      hora        data  dia  \n",
       "2828   2019-08-01 00:07:28+00:00  00:07:28  2019-08-01    8  \n",
       "2829   2019-08-01 00:08:00+00:00  00:08:00  2019-08-01    8  \n",
       "2830   2019-08-01 00:08:55+00:00  00:08:55  2019-08-01    8  \n",
       "2831   2019-08-01 00:08:58+00:00  00:08:58  2019-08-01    8  \n",
       "2832   2019-08-01 00:08:59+00:00  00:08:59  2019-08-01    8  \n",
       "...                          ...       ...         ...  ...  \n",
       "244121 2019-08-07 21:12:25+00:00  21:12:25  2019-08-07   14  \n",
       "244122 2019-08-07 21:13:59+00:00  21:13:59  2019-08-07   14  \n",
       "244123 2019-08-07 21:14:43+00:00  21:14:43  2019-08-07   14  \n",
       "244124 2019-08-07 21:14:58+00:00  21:14:58  2019-08-07   14  \n",
       "244125 2019-08-07 21:15:17+00:00  21:15:17  2019-08-07   14  \n",
       "\n",
       "[241298 rows x 7 columns]"
      ]
     },
     "execution_count": 20,
     "metadata": {},
     "output_type": "execute_result"
    }
   ],
   "source": [
    "print(df.loc[df['dia']<=7,:'nome'].count())\n",
    "dfFiltradaData=df.loc[df['dia']>=8,:]\n",
    "dfFiltradaData"
   ]
  },
  {
   "cell_type": "code",
   "execution_count": 21,
   "metadata": {
    "scrolled": true
   },
   "outputs": [
    {
     "data": {
      "text/plain": [
       "1.1719947948180258"
      ]
     },
     "execution_count": 21,
     "metadata": {},
     "output_type": "execute_result"
    }
   ],
   "source": [
    "(2828/241298 )*100"
   ]
  },
  {
   "cell_type": "markdown",
   "metadata": {},
   "source": [
    "menos de 1,2 por cento dos dados são de antes de agosto"
   ]
  },
  {
   "cell_type": "code",
   "execution_count": 22,
   "metadata": {
    "scrolled": true
   },
   "outputs": [
    {
     "data": {
      "text/plain": [
       "array([ 8,  9, 10, 11, 12, 13, 14])"
      ]
     },
     "execution_count": 22,
     "metadata": {},
     "output_type": "execute_result"
    }
   ],
   "source": [
    "dfFiltradaData['dia'].unique()"
   ]
  },
  {
   "cell_type": "code",
   "execution_count": 23,
   "metadata": {},
   "outputs": [
    {
     "name": "stderr",
     "output_type": "stream",
     "text": [
      "C:\\Users\\Nair Corso\\AppData\\Local\\Temp\\ipykernel_17816\\1536201598.py:1: SettingWithCopyWarning: \n",
      "A value is trying to be set on a copy of a slice from a DataFrame.\n",
      "Try using .loc[row_indexer,col_indexer] = value instead\n",
      "\n",
      "See the caveats in the documentation: https://pandas.pydata.org/pandas-docs/stable/user_guide/indexing.html#returning-a-view-versus-a-copy\n",
      "  dfFiltradaData['dia']=dfFiltradaData['dia']-7\n"
     ]
    }
   ],
   "source": [
    "dfFiltradaData['dia']=dfFiltradaData['dia']-7"
   ]
  },
  {
   "cell_type": "code",
   "execution_count": 24,
   "metadata": {},
   "outputs": [
    {
     "data": {
      "text/plain": [
       "array([1, 2, 3, 4, 5, 6, 7])"
      ]
     },
     "execution_count": 24,
     "metadata": {},
     "output_type": "execute_result"
    }
   ],
   "source": [
    "dfFiltradaData['dia'].unique()"
   ]
  },
  {
   "cell_type": "code",
   "execution_count": 25,
   "metadata": {},
   "outputs": [
    {
     "data": {
      "text/plain": [
       "(array([36229.,     0.,     0., 35606.,     0.,     0., 33351.,     0.,\n",
       "            0.,     0., 33033.,     0.,     0., 36113.,     0.,     0.,\n",
       "        35822.,     0.,     0., 31144.]),\n",
       " array([18109. , 18109.3, 18109.6, 18109.9, 18110.2, 18110.5, 18110.8,\n",
       "        18111.1, 18111.4, 18111.7, 18112. , 18112.3, 18112.6, 18112.9,\n",
       "        18113.2, 18113.5, 18113.8, 18114.1, 18114.4, 18114.7, 18115. ]),\n",
       " <BarContainer object of 20 artists>)"
      ]
     },
     "execution_count": 25,
     "metadata": {},
     "output_type": "execute_result"
    },
    {
     "data": {
      "image/png": "[encoded data removed]",
      "text/plain": [
       "<Figure size 1200x600 with 1 Axes>"
      ]
     },
     "metadata": {},
     "output_type": "display_data"
    }
   ],
   "source": [
    "\n",
    "plt.figure(figsize=(12, 6))\n",
    "plt.hist(dfFiltradaData['data'], bins=20)"
   ]
  },
  {
   "cell_type": "markdown",
   "metadata": {},
   "source": [
    "### conclusões <a id='c1'></a>"
   ]
  },
  {
   "cell_type": "markdown",
   "metadata": {},
   "source": [
    "<font color='green'>agora sim temos dados consistentes: é um periodo de tempo de apenas 7 dias entre 1 de agosto e 7 de agosto"
   ]
  },
  {
   "cell_type": "markdown",
   "metadata": {},
   "source": [
    "[sumario](#sumario)\n",
    "\n",
    "## Analisando o funil de eventos <a id=\"funil\"> </a>"
   ]
  },
  {
   "cell_type": "code",
   "execution_count": 26,
   "metadata": {},
   "outputs": [
    {
     "data": {
      "text/html": [
       "<div>\n",
       "<style scoped>\n",
       "    .dataframe tbody tr th:only-of-type {\n",
       "        vertical-align: middle;\n",
       "    }\n",
       "\n",
       "    .dataframe tbody tr th {\n",
       "        vertical-align: top;\n",
       "    }\n",
       "\n",
       "    .dataframe thead th {\n",
       "        text-align: right;\n",
       "    }\n",
       "</style>\n",
       "<table border=\"1\" class=\"dataframe\">\n",
       "  <thead>\n",
       "    <tr style=\"text-align: right;\">\n",
       "      <th></th>\n",
       "      <th>nome</th>\n",
       "      <th>id</th>\n",
       "      <th>grupo</th>\n",
       "      <th>dataHora</th>\n",
       "      <th>hora</th>\n",
       "      <th>data</th>\n",
       "      <th>dia</th>\n",
       "    </tr>\n",
       "  </thead>\n",
       "  <tbody>\n",
       "    <tr>\n",
       "      <th>0</th>\n",
       "      <td>MainScreenAppear</td>\n",
       "      <td>4575588528974610257</td>\n",
       "      <td>246</td>\n",
       "      <td>2019-07-25 04:43:36+00:00</td>\n",
       "      <td>04:43:36</td>\n",
       "      <td>2019-07-25</td>\n",
       "      <td>1</td>\n",
       "    </tr>\n",
       "    <tr>\n",
       "      <th>1</th>\n",
       "      <td>MainScreenAppear</td>\n",
       "      <td>7416695313311560658</td>\n",
       "      <td>246</td>\n",
       "      <td>2019-07-25 11:11:42+00:00</td>\n",
       "      <td>11:11:42</td>\n",
       "      <td>2019-07-25</td>\n",
       "      <td>1</td>\n",
       "    </tr>\n",
       "    <tr>\n",
       "      <th>2</th>\n",
       "      <td>PaymentScreenSuccessful</td>\n",
       "      <td>3518123091307005509</td>\n",
       "      <td>248</td>\n",
       "      <td>2019-07-25 11:28:47+00:00</td>\n",
       "      <td>11:28:47</td>\n",
       "      <td>2019-07-25</td>\n",
       "      <td>1</td>\n",
       "    </tr>\n",
       "    <tr>\n",
       "      <th>3</th>\n",
       "      <td>CartScreenAppear</td>\n",
       "      <td>3518123091307005509</td>\n",
       "      <td>248</td>\n",
       "      <td>2019-07-25 11:28:47+00:00</td>\n",
       "      <td>11:28:47</td>\n",
       "      <td>2019-07-25</td>\n",
       "      <td>1</td>\n",
       "    </tr>\n",
       "    <tr>\n",
       "      <th>4</th>\n",
       "      <td>PaymentScreenSuccessful</td>\n",
       "      <td>6217807653094995999</td>\n",
       "      <td>248</td>\n",
       "      <td>2019-07-25 11:48:42+00:00</td>\n",
       "      <td>11:48:42</td>\n",
       "      <td>2019-07-25</td>\n",
       "      <td>1</td>\n",
       "    </tr>\n",
       "    <tr>\n",
       "      <th>...</th>\n",
       "      <td>...</td>\n",
       "      <td>...</td>\n",
       "      <td>...</td>\n",
       "      <td>...</td>\n",
       "      <td>...</td>\n",
       "      <td>...</td>\n",
       "      <td>...</td>\n",
       "    </tr>\n",
       "    <tr>\n",
       "      <th>244121</th>\n",
       "      <td>MainScreenAppear</td>\n",
       "      <td>4599628364049201812</td>\n",
       "      <td>247</td>\n",
       "      <td>2019-08-07 21:12:25+00:00</td>\n",
       "      <td>21:12:25</td>\n",
       "      <td>2019-08-07</td>\n",
       "      <td>14</td>\n",
       "    </tr>\n",
       "    <tr>\n",
       "      <th>244122</th>\n",
       "      <td>MainScreenAppear</td>\n",
       "      <td>5849806612437486590</td>\n",
       "      <td>246</td>\n",
       "      <td>2019-08-07 21:13:59+00:00</td>\n",
       "      <td>21:13:59</td>\n",
       "      <td>2019-08-07</td>\n",
       "      <td>14</td>\n",
       "    </tr>\n",
       "    <tr>\n",
       "      <th>244123</th>\n",
       "      <td>MainScreenAppear</td>\n",
       "      <td>5746969938801999050</td>\n",
       "      <td>246</td>\n",
       "      <td>2019-08-07 21:14:43+00:00</td>\n",
       "      <td>21:14:43</td>\n",
       "      <td>2019-08-07</td>\n",
       "      <td>14</td>\n",
       "    </tr>\n",
       "    <tr>\n",
       "      <th>244124</th>\n",
       "      <td>MainScreenAppear</td>\n",
       "      <td>5746969938801999050</td>\n",
       "      <td>246</td>\n",
       "      <td>2019-08-07 21:14:58+00:00</td>\n",
       "      <td>21:14:58</td>\n",
       "      <td>2019-08-07</td>\n",
       "      <td>14</td>\n",
       "    </tr>\n",
       "    <tr>\n",
       "      <th>244125</th>\n",
       "      <td>OffersScreenAppear</td>\n",
       "      <td>5746969938801999050</td>\n",
       "      <td>246</td>\n",
       "      <td>2019-08-07 21:15:17+00:00</td>\n",
       "      <td>21:15:17</td>\n",
       "      <td>2019-08-07</td>\n",
       "      <td>14</td>\n",
       "    </tr>\n",
       "  </tbody>\n",
       "</table>\n",
       "<p>244126 rows × 7 columns</p>\n",
       "</div>"
      ],
      "text/plain": [
       "                           nome                   id  grupo  \\\n",
       "0              MainScreenAppear  4575588528974610257    246   \n",
       "1              MainScreenAppear  7416695313311560658    246   \n",
       "2       PaymentScreenSuccessful  3518123091307005509    248   \n",
       "3              CartScreenAppear  3518123091307005509    248   \n",
       "4       PaymentScreenSuccessful  6217807653094995999    248   \n",
       "...                         ...                  ...    ...   \n",
       "244121         MainScreenAppear  4599628364049201812    247   \n",
       "244122         MainScreenAppear  5849806612437486590    246   \n",
       "244123         MainScreenAppear  5746969938801999050    246   \n",
       "244124         MainScreenAppear  5746969938801999050    246   \n",
       "244125       OffersScreenAppear  5746969938801999050    246   \n",
       "\n",
       "                        dataHora      hora        data  dia  \n",
       "0      2019-07-25 04:43:36+00:00  04:43:36  2019-07-25    1  \n",
       "1      2019-07-25 11:11:42+00:00  11:11:42  2019-07-25    1  \n",
       "2      2019-07-25 11:28:47+00:00  11:28:47  2019-07-25    1  \n",
       "3      2019-07-25 11:28:47+00:00  11:28:47  2019-07-25    1  \n",
       "4      2019-07-25 11:48:42+00:00  11:48:42  2019-07-25    1  \n",
       "...                          ...       ...         ...  ...  \n",
       "244121 2019-08-07 21:12:25+00:00  21:12:25  2019-08-07   14  \n",
       "244122 2019-08-07 21:13:59+00:00  21:13:59  2019-08-07   14  \n",
       "244123 2019-08-07 21:14:43+00:00  21:14:43  2019-08-07   14  \n",
       "244124 2019-08-07 21:14:58+00:00  21:14:58  2019-08-07   14  \n",
       "244125 2019-08-07 21:15:17+00:00  21:15:17  2019-08-07   14  \n",
       "\n",
       "[244126 rows x 7 columns]"
      ]
     },
     "execution_count": 26,
     "metadata": {},
     "output_type": "execute_result"
    }
   ],
   "source": [
    "df"
   ]
  },
  {
   "cell_type": "markdown",
   "metadata": {},
   "source": [
    "### frequencia de eventos <a id=\"funil\"> </a>"
   ]
  },
  {
   "cell_type": "code",
   "execution_count": 27,
   "metadata": {},
   "outputs": [
    {
     "data": {
      "text/plain": [
       "nome\n",
       "MainScreenAppear           119205\n",
       "OffersScreenAppear          46825\n",
       "CartScreenAppear            42731\n",
       "PaymentScreenSuccessful     34313\n",
       "Tutorial                     1052\n",
       "Name: count, dtype: int64"
      ]
     },
     "execution_count": 27,
     "metadata": {},
     "output_type": "execute_result"
    }
   ],
   "source": [
    "df['nome'].value_counts()\n"
   ]
  },
  {
   "cell_type": "markdown",
   "metadata": {},
   "source": [
    "### usuarios por eventos <a id=\"frequenciaevento\"> </a>"
   ]
  },
  {
   "cell_type": "code",
   "execution_count": 28,
   "metadata": {},
   "outputs": [
    {
     "data": {
      "text/html": [
       "<div>\n",
       "<style scoped>\n",
       "    .dataframe tbody tr th:only-of-type {\n",
       "        vertical-align: middle;\n",
       "    }\n",
       "\n",
       "    .dataframe tbody tr th {\n",
       "        vertical-align: top;\n",
       "    }\n",
       "\n",
       "    .dataframe thead th {\n",
       "        text-align: right;\n",
       "    }\n",
       "</style>\n",
       "<table border=\"1\" class=\"dataframe\">\n",
       "  <thead>\n",
       "    <tr style=\"text-align: right;\">\n",
       "      <th></th>\n",
       "      <th>nome</th>\n",
       "      <th>id</th>\n",
       "    </tr>\n",
       "  </thead>\n",
       "  <tbody>\n",
       "    <tr>\n",
       "      <th>1</th>\n",
       "      <td>MainScreenAppear</td>\n",
       "      <td>7439</td>\n",
       "    </tr>\n",
       "    <tr>\n",
       "      <th>2</th>\n",
       "      <td>OffersScreenAppear</td>\n",
       "      <td>4613</td>\n",
       "    </tr>\n",
       "    <tr>\n",
       "      <th>0</th>\n",
       "      <td>CartScreenAppear</td>\n",
       "      <td>3749</td>\n",
       "    </tr>\n",
       "    <tr>\n",
       "      <th>3</th>\n",
       "      <td>PaymentScreenSuccessful</td>\n",
       "      <td>3547</td>\n",
       "    </tr>\n",
       "    <tr>\n",
       "      <th>4</th>\n",
       "      <td>Tutorial</td>\n",
       "      <td>847</td>\n",
       "    </tr>\n",
       "  </tbody>\n",
       "</table>\n",
       "</div>"
      ],
      "text/plain": [
       "                      nome    id\n",
       "1         MainScreenAppear  7439\n",
       "2       OffersScreenAppear  4613\n",
       "0         CartScreenAppear  3749\n",
       "3  PaymentScreenSuccessful  3547\n",
       "4                 Tutorial   847"
      ]
     },
     "execution_count": 28,
     "metadata": {},
     "output_type": "execute_result"
    }
   ],
   "source": [
    "eventoUsuario=df.groupby('nome').agg({'id':'nunique'}).reset_index()\n",
    "eventoUsuario.sort_values(by='id', ascending=False)"
   ]
  },
  {
   "cell_type": "code",
   "execution_count": 29,
   "metadata": {},
   "outputs": [
    {
     "data": {
      "text/html": [
       "<div>\n",
       "<style scoped>\n",
       "    .dataframe tbody tr th:only-of-type {\n",
       "        vertical-align: middle;\n",
       "    }\n",
       "\n",
       "    .dataframe tbody tr th {\n",
       "        vertical-align: top;\n",
       "    }\n",
       "\n",
       "    .dataframe thead th {\n",
       "        text-align: right;\n",
       "    }\n",
       "</style>\n",
       "<table border=\"1\" class=\"dataframe\">\n",
       "  <thead>\n",
       "    <tr style=\"text-align: right;\">\n",
       "      <th></th>\n",
       "      <th>nome</th>\n",
       "      <th>id</th>\n",
       "      <th>porporcao</th>\n",
       "    </tr>\n",
       "  </thead>\n",
       "  <tbody>\n",
       "    <tr>\n",
       "      <th>1</th>\n",
       "      <td>MainScreenAppear</td>\n",
       "      <td>7439</td>\n",
       "      <td>36.84</td>\n",
       "    </tr>\n",
       "    <tr>\n",
       "      <th>2</th>\n",
       "      <td>OffersScreenAppear</td>\n",
       "      <td>4613</td>\n",
       "      <td>22.84</td>\n",
       "    </tr>\n",
       "    <tr>\n",
       "      <th>0</th>\n",
       "      <td>CartScreenAppear</td>\n",
       "      <td>3749</td>\n",
       "      <td>18.56</td>\n",
       "    </tr>\n",
       "    <tr>\n",
       "      <th>3</th>\n",
       "      <td>PaymentScreenSuccessful</td>\n",
       "      <td>3547</td>\n",
       "      <td>17.56</td>\n",
       "    </tr>\n",
       "    <tr>\n",
       "      <th>4</th>\n",
       "      <td>Tutorial</td>\n",
       "      <td>847</td>\n",
       "      <td>4.19</td>\n",
       "    </tr>\n",
       "  </tbody>\n",
       "</table>\n",
       "</div>"
      ],
      "text/plain": [
       "                      nome    id  porporcao\n",
       "1         MainScreenAppear  7439      36.84\n",
       "2       OffersScreenAppear  4613      22.84\n",
       "0         CartScreenAppear  3749      18.56\n",
       "3  PaymentScreenSuccessful  3547      17.56\n",
       "4                 Tutorial   847       4.19"
      ]
     },
     "execution_count": 29,
     "metadata": {},
     "output_type": "execute_result"
    }
   ],
   "source": [
    "eventoUsuario['porporcao']= (eventoUsuario['id']/eventoUsuario['id'].sum()*100).round(2)\n",
    "eventoUsuario=eventoUsuario.sort_values(by='id', ascending=False)\n",
    "eventoUsuario"
   ]
  },
  {
   "cell_type": "markdown",
   "metadata": {},
   "source": [
    "<font color=green> Claramente o funil ocorre nesta ordem :  \n",
    "    <font color=blue>  MainScreenAppear, OffersScreenAppear, CartScreenAppear, PaymentScreenSuccessful <font color=green>  \n",
    "    o evento tutorial esta apartado da sequencia de eventos e apenas uma pequena parela dos usuarios decidem passar pela referida etapa"
   ]
  },
  {
   "cell_type": "markdown",
   "metadata": {},
   "source": [
    "para o funil usaremos um grafico especifico go.Funnel"
   ]
  },
  {
   "cell_type": "markdown",
   "metadata": {},
   "source": [
    "### ordem de ações e funil <a id=\"frequenciaevento\"> </a>"
   ]
  },
  {
   "cell_type": "code",
   "execution_count": 30,
   "metadata": {
    "scrolled": true
   },
   "outputs": [
    {
     "name": "stdout",
     "output_type": "stream",
     "text": [
      "                      nome      id\n",
      "1         MainScreenAppear  119205\n",
      "2       OffersScreenAppear   46825\n",
      "0         CartScreenAppear   42731\n",
      "3  PaymentScreenSuccessful   34313\n",
      "4                 Tutorial    1052\n"
     ]
    }
   ],
   "source": [
    "eventoTotal=df.groupby('nome').agg({'id':'count'}).reset_index()\n",
    "eventoTotal=eventoTotal.sort_values(by='id', ascending=False)\n",
    "print(eventoTotal)"
   ]
  },
  {
   "cell_type": "code",
   "execution_count": 31,
   "metadata": {},
   "outputs": [
    {
     "name": "stdout",
     "output_type": "stream",
     "text": [
      "                      nome      id\n",
      "1         MainScreenAppear  119205\n",
      "2       OffersScreenAppear   46825\n",
      "0         CartScreenAppear   42731\n",
      "3  PaymentScreenSuccessful   34313\n"
     ]
    }
   ],
   "source": [
    "eventoFunil1=eventoTotal[eventoTotal['nome']!='Tutorial']\n",
    "print(eventoFunil1)"
   ]
  },
  {
   "cell_type": "markdown",
   "metadata": {},
   "source": [
    "### usuarios por etapas <a id=\"ordemacao\"> </a>"
   ]
  },
  {
   "cell_type": "code",
   "execution_count": 32,
   "metadata": {},
   "outputs": [
    {
     "data": {
      "application/vnd.plotly.v1+json": {
       "config": {
        "plotlyServerURL": "https://plot.ly"
       },
       "data": [
        {
         "type": "funnel",
         "x": [
          119205,
          46825,
          42731,
          34313
         ],
         "y": [
          "MainScreenAppear",
          "OffersScreenAppear",
          "CartScreenAppear",
          "PaymentScreenSuccessful"
         ]
        }
       ],
       "layout": {
        "template": {
         "data": {
          "bar": [
           {
            "error_x": {
             "color": "#2a3f5f"
            },
            "error_y": {
             "color": "#2a3f5f"
            },
            "marker": {
             "line": {
              "color": "#E5ECF6",
              "width": 0.5
             },
             "pattern": {
              "fillmode": "overlay",
              "size": 10,
              "solidity": 0.2
             }
            },
            "type": "bar"
           }
          ],
          "barpolar": [
           {
            "marker": {
             "line": {
              "color": "#E5ECF6",
              "width": 0.5
             },
             "pattern": {
              "fillmode": "overlay",
              "size": 10,
              "solidity": 0.2
             }
            },
            "type": "barpolar"
           }
          ],
          "carpet": [
           {
            "aaxis": {
             "endlinecolor": "#2a3f5f",
             "gridcolor": "white",
             "linecolor": "white",
             "minorgridcolor": "white",
             "startlinecolor": "#2a3f5f"
            },
            "baxis": {
             "endlinecolor": "#2a3f5f",
             "gridcolor": "white",
             "linecolor": "white",
             "minorgridcolor": "white",
             "startlinecolor": "#2a3f5f"
            },
            "type": "carpet"
           }
          ],
          "choropleth": [
           {
            "colorbar": {
             "outlinewidth": 0,
             "ticks": ""
            },
            "type": "choropleth"
           }
          ],
          "contour": [
           {
            "colorbar": {
             "outlinewidth": 0,
             "ticks": ""
            },
            "colorscale": [
             [
              0,
              "#0d0887"
             ],
             [
              0.1111111111111111,
              "#46039f"
             ],
             [
              0.2222222222222222,
              "#7201a8"
             ],
             [
              0.3333333333333333,
              "#9c179e"
             ],
             [
              0.4444444444444444,
              "#bd3786"
             ],
             [
              0.5555555555555556,
              "#d8576b"
             ],
             [
              0.6666666666666666,
              "#ed7953"
             ],
             [
              0.7777777777777778,
              "#fb9f3a"
             ],
             [
              0.8888888888888888,
              "#fdca26"
             ],
             [
              1,
              "#f0f921"
             ]
            ],
            "type": "contour"
           }
          ],
          "contourcarpet": [
           {
            "colorbar": {
             "outlinewidth": 0,
             "ticks": ""
            },
            "type": "contourcarpet"
           }
          ],
          "heatmap": [
           {
            "colorbar": {
             "outlinewidth": 0,
             "ticks": ""
            },
            "colorscale": [
             [
              0,
              "#0d0887"
             ],
             [
              0.1111111111111111,
              "#46039f"
             ],
             [
              0.2222222222222222,
              "#7201a8"
             ],
             [
              0.3333333333333333,
              "#9c179e"
             ],
             [
              0.4444444444444444,
              "#bd3786"
             ],
             [
              0.5555555555555556,
              "#d8576b"
             ],
             [
              0.6666666666666666,
              "#ed7953"
             ],
             [
              0.7777777777777778,
              "#fb9f3a"
             ],
             [
              0.8888888888888888,
              "#fdca26"
             ],
             [
              1,
              "#f0f921"
             ]
            ],
            "type": "heatmap"
           }
          ],
          "heatmapgl": [
           {
            "colorbar": {
             "outlinewidth": 0,
             "ticks": ""
            },
            "colorscale": [
             [
              0,
              "#0d0887"
             ],
             [
              0.1111111111111111,
              "#46039f"
             ],
             [
              0.2222222222222222,
              "#7201a8"
             ],
             [
              0.3333333333333333,
              "#9c179e"
             ],
             [
              0.4444444444444444,
              "#bd3786"
             ],
             [
              0.5555555555555556,
              "#d8576b"
             ],
             [
              0.6666666666666666,
              "#ed7953"
             ],
             [
              0.7777777777777778,
              "#fb9f3a"
             ],
             [
              0.8888888888888888,
              "#fdca26"
             ],
             [
              1,
              "#f0f921"
             ]
            ],
            "type": "heatmapgl"
           }
          ],
          "histogram": [
           {
            "marker": {
             "pattern": {
              "fillmode": "overlay",
              "size": 10,
              "solidity": 0.2
             }
            },
            "type": "histogram"
           }
          ],
          "histogram2d": [
           {
            "colorbar": {
             "outlinewidth": 0,
             "ticks": ""
            },
            "colorscale": [
             [
              0,
              "#0d0887"
             ],
             [
              0.1111111111111111,
              "#46039f"
             ],
             [
              0.2222222222222222,
              "#7201a8"
             ],
             [
              0.3333333333333333,
              "#9c179e"
             ],
             [
              0.4444444444444444,
              "#bd3786"
             ],
             [
              0.5555555555555556,
              "#d8576b"
             ],
             [
              0.6666666666666666,
              "#ed7953"
             ],
             [
              0.7777777777777778,
              "#fb9f3a"
             ],
             [
              0.8888888888888888,
              "#fdca26"
             ],
             [
              1,
              "#f0f921"
             ]
            ],
            "type": "histogram2d"
           }
          ],
          "histogram2dcontour": [
           {
            "colorbar": {
             "outlinewidth": 0,
             "ticks": ""
            },
            "colorscale": [
             [
              0,
              "#0d0887"
             ],
             [
              0.1111111111111111,
              "#46039f"
             ],
             [
              0.2222222222222222,
              "#7201a8"
             ],
             [
              0.3333333333333333,
              "#9c179e"
             ],
             [
              0.4444444444444444,
              "#bd3786"
             ],
             [
              0.5555555555555556,
              "#d8576b"
             ],
             [
              0.6666666666666666,
              "#ed7953"
             ],
             [
              0.7777777777777778,
              "#fb9f3a"
             ],
             [
              0.8888888888888888,
              "#fdca26"
             ],
             [
              1,
              "#f0f921"
             ]
            ],
            "type": "histogram2dcontour"
           }
          ],
          "mesh3d": [
           {
            "colorbar": {
             "outlinewidth": 0,
             "ticks": ""
            },
            "type": "mesh3d"
           }
          ],
          "parcoords": [
           {
            "line": {
             "colorbar": {
              "outlinewidth": 0,
              "ticks": ""
             }
            },
            "type": "parcoords"
           }
          ],
          "pie": [
           {
            "automargin": true,
            "type": "pie"
           }
          ],
          "scatter": [
           {
            "fillpattern": {
             "fillmode": "overlay",
             "size": 10,
             "solidity": 0.2
            },
            "type": "scatter"
           }
          ],
          "scatter3d": [
           {
            "line": {
             "colorbar": {
              "outlinewidth": 0,
              "ticks": ""
             }
            },
            "marker": {
             "colorbar": {
              "outlinewidth": 0,
              "ticks": ""
             }
            },
            "type": "scatter3d"
           }
          ],
          "scattercarpet": [
           {
            "marker": {
             "colorbar": {
              "outlinewidth": 0,
              "ticks": ""
             }
            },
            "type": "scattercarpet"
           }
          ],
          "scattergeo": [
           {
            "marker": {
             "colorbar": {
              "outlinewidth": 0,
              "ticks": ""
             }
            },
            "type": "scattergeo"
           }
          ],
          "scattergl": [
           {
            "marker": {
             "colorbar": {
              "outlinewidth": 0,
              "ticks": ""
             }
            },
            "type": "scattergl"
           }
          ],
          "scattermapbox": [
           {
            "marker": {
             "colorbar": {
              "outlinewidth": 0,
              "ticks": ""
             }
            },
            "type": "scattermapbox"
           }
          ],
          "scatterpolar": [
           {
            "marker": {
             "colorbar": {
              "outlinewidth": 0,
              "ticks": ""
             }
            },
            "type": "scatterpolar"
           }
          ],
          "scatterpolargl": [
           {
            "marker": {
             "colorbar": {
              "outlinewidth": 0,
              "ticks": ""
             }
            },
            "type": "scatterpolargl"
           }
          ],
          "scatterternary": [
           {
            "marker": {
             "colorbar": {
              "outlinewidth": 0,
              "ticks": ""
             }
            },
            "type": "scatterternary"
           }
          ],
          "surface": [
           {
            "colorbar": {
             "outlinewidth": 0,
             "ticks": ""
            },
            "colorscale": [
             [
              0,
              "#0d0887"
             ],
             [
              0.1111111111111111,
              "#46039f"
             ],
             [
              0.2222222222222222,
              "#7201a8"
             ],
             [
              0.3333333333333333,
              "#9c179e"
             ],
             [
              0.4444444444444444,
              "#bd3786"
             ],
             [
              0.5555555555555556,
              "#d8576b"
             ],
             [
              0.6666666666666666,
              "#ed7953"
             ],
             [
              0.7777777777777778,
              "#fb9f3a"
             ],
             [
              0.8888888888888888,
              "#fdca26"
             ],
             [
              1,
              "#f0f921"
             ]
            ],
            "type": "surface"
           }
          ],
          "table": [
           {
            "cells": {
             "fill": {
              "color": "#EBF0F8"
             },
             "line": {
              "color": "white"
             }
            },
            "header": {
             "fill": {
              "color": "#C8D4E3"
             },
             "line": {
              "color": "white"
             }
            },
            "type": "table"
           }
          ]
         },
         "layout": {
          "annotationdefaults": {
           "arrowcolor": "#2a3f5f",
           "arrowhead": 0,
           "arrowwidth": 1
          },
          "autotypenumbers": "strict",
          "coloraxis": {
           "colorbar": {
            "outlinewidth": 0,
            "ticks": ""
           }
          },
          "colorscale": {
           "diverging": [
            [
             0,
             "#8e0152"
            ],
            [
             0.1,
             "#c51b7d"
            ],
            [
             0.2,
             "#de77ae"
            ],
            [
             0.3,
             "#f1b6da"
            ],
            [
             0.4,
             "#fde0ef"
            ],
            [
             0.5,
             "#f7f7f7"
            ],
            [
             0.6,
             "#e6f5d0"
            ],
            [
             0.7,
             "#b8e186"
            ],
            [
             0.8,
             "#7fbc41"
            ],
            [
             0.9,
             "#4d9221"
            ],
            [
             1,
             "#276419"
            ]
           ],
           "sequential": [
            [
             0,
             "#0d0887"
            ],
            [
             0.1111111111111111,
             "#46039f"
            ],
            [
             0.2222222222222222,
             "#7201a8"
            ],
            [
             0.3333333333333333,
             "#9c179e"
            ],
            [
             0.4444444444444444,
             "#bd3786"
            ],
            [
             0.5555555555555556,
             "#d8576b"
            ],
            [
             0.6666666666666666,
             "#ed7953"
            ],
            [
             0.7777777777777778,
             "#fb9f3a"
            ],
            [
             0.8888888888888888,
             "#fdca26"
            ],
            [
             1,
             "#f0f921"
            ]
           ],
           "sequentialminus": [
            [
             0,
             "#0d0887"
            ],
            [
             0.1111111111111111,
             "#46039f"
            ],
            [
             0.2222222222222222,
             "#7201a8"
            ],
            [
             0.3333333333333333,
             "#9c179e"
            ],
            [
             0.4444444444444444,
             "#bd3786"
            ],
            [
             0.5555555555555556,
             "#d8576b"
            ],
            [
             0.6666666666666666,
             "#ed7953"
            ],
            [
             0.7777777777777778,
             "#fb9f3a"
            ],
            [
             0.8888888888888888,
             "#fdca26"
            ],
            [
             1,
             "#f0f921"
            ]
           ]
          },
          "colorway": [
           "#636efa",
           "#EF553B",
           "#00cc96",
           "#ab63fa",
           "#FFA15A",
           "#19d3f3",
           "#FF6692",
           "#B6E880",
           "#FF97FF",
           "#FECB52"
          ],
          "font": {
           "color": "#2a3f5f"
          },
          "geo": {
           "bgcolor": "white",
           "lakecolor": "white",
           "landcolor": "#E5ECF6",
           "showlakes": true,
           "showland": true,
           "subunitcolor": "white"
          },
          "hoverlabel": {
           "align": "left"
          },
          "hovermode": "closest",
          "mapbox": {
           "style": "light"
          },
          "paper_bgcolor": "white",
          "plot_bgcolor": "#E5ECF6",
          "polar": {
           "angularaxis": {
            "gridcolor": "white",
            "linecolor": "white",
            "ticks": ""
           },
           "bgcolor": "#E5ECF6",
           "radialaxis": {
            "gridcolor": "white",
            "linecolor": "white",
            "ticks": ""
           }
          },
          "scene": {
           "xaxis": {
            "backgroundcolor": "#E5ECF6",
            "gridcolor": "white",
            "gridwidth": 2,
            "linecolor": "white",
            "showbackground": true,
            "ticks": "",
            "zerolinecolor": "white"
           },
           "yaxis": {
            "backgroundcolor": "#E5ECF6",
            "gridcolor": "white",
            "gridwidth": 2,
            "linecolor": "white",
            "showbackground": true,
            "ticks": "",
            "zerolinecolor": "white"
           },
           "zaxis": {
            "backgroundcolor": "#E5ECF6",
            "gridcolor": "white",
            "gridwidth": 2,
            "linecolor": "white",
            "showbackground": true,
            "ticks": "",
            "zerolinecolor": "white"
           }
          },
          "shapedefaults": {
           "line": {
            "color": "#2a3f5f"
           }
          },
          "ternary": {
           "aaxis": {
            "gridcolor": "white",
            "linecolor": "white",
            "ticks": ""
           },
           "baxis": {
            "gridcolor": "white",
            "linecolor": "white",
            "ticks": ""
           },
           "bgcolor": "#E5ECF6",
           "caxis": {
            "gridcolor": "white",
            "linecolor": "white",
            "ticks": ""
           }
          },
          "title": {
           "x": 0.05
          },
          "xaxis": {
           "automargin": true,
           "gridcolor": "white",
           "linecolor": "white",
           "ticks": "",
           "title": {
            "standoff": 15
           },
           "zerolinecolor": "white",
           "zerolinewidth": 2
          },
          "yaxis": {
           "automargin": true,
           "gridcolor": "white",
           "linecolor": "white",
           "ticks": "",
           "title": {
            "standoff": 15
           },
           "zerolinecolor": "white",
           "zerolinewidth": 2
          }
         }
        }
       }
      }
     },
     "metadata": {},
     "output_type": "display_data"
    }
   ],
   "source": [
    "import plotly \n",
    "from plotly import graph_objects as go\n",
    "\n",
    "fig = go.Figure(go.Funnel(\n",
    "    y = eventoFunil1['nome'],\n",
    "    x = eventoFunil1['id']\n",
    "    ))\n",
    "fig.show()"
   ]
  },
  {
   "cell_type": "code",
   "execution_count": 33,
   "metadata": {},
   "outputs": [
    {
     "data": {
      "text/html": [
       "<div>\n",
       "<style scoped>\n",
       "    .dataframe tbody tr th:only-of-type {\n",
       "        vertical-align: middle;\n",
       "    }\n",
       "\n",
       "    .dataframe tbody tr th {\n",
       "        vertical-align: top;\n",
       "    }\n",
       "\n",
       "    .dataframe thead th {\n",
       "        text-align: right;\n",
       "    }\n",
       "</style>\n",
       "<table border=\"1\" class=\"dataframe\">\n",
       "  <thead>\n",
       "    <tr style=\"text-align: right;\">\n",
       "      <th></th>\n",
       "      <th>nome</th>\n",
       "      <th>id</th>\n",
       "      <th>porporcao</th>\n",
       "    </tr>\n",
       "  </thead>\n",
       "  <tbody>\n",
       "    <tr>\n",
       "      <th>1</th>\n",
       "      <td>MainScreenAppear</td>\n",
       "      <td>7439</td>\n",
       "      <td>36.84</td>\n",
       "    </tr>\n",
       "    <tr>\n",
       "      <th>2</th>\n",
       "      <td>OffersScreenAppear</td>\n",
       "      <td>4613</td>\n",
       "      <td>22.84</td>\n",
       "    </tr>\n",
       "    <tr>\n",
       "      <th>0</th>\n",
       "      <td>CartScreenAppear</td>\n",
       "      <td>3749</td>\n",
       "      <td>18.56</td>\n",
       "    </tr>\n",
       "    <tr>\n",
       "      <th>3</th>\n",
       "      <td>PaymentScreenSuccessful</td>\n",
       "      <td>3547</td>\n",
       "      <td>17.56</td>\n",
       "    </tr>\n",
       "  </tbody>\n",
       "</table>\n",
       "</div>"
      ],
      "text/plain": [
       "                      nome    id  porporcao\n",
       "1         MainScreenAppear  7439      36.84\n",
       "2       OffersScreenAppear  4613      22.84\n",
       "0         CartScreenAppear  3749      18.56\n",
       "3  PaymentScreenSuccessful  3547      17.56"
      ]
     },
     "execution_count": 33,
     "metadata": {},
     "output_type": "execute_result"
    }
   ],
   "source": [
    "eventoFunil2=eventoUsuario[eventoUsuario['nome']!='Tutorial']\n",
    "eventoFunil2"
   ]
  },
  {
   "cell_type": "code",
   "execution_count": 34,
   "metadata": {},
   "outputs": [
    {
     "data": {
      "application/vnd.plotly.v1+json": {
       "config": {
        "plotlyServerURL": "https://plot.ly"
       },
       "data": [
        {
         "type": "funnel",
         "x": [
          7439,
          4613,
          3749,
          3547
         ],
         "y": [
          "MainScreenAppear",
          "OffersScreenAppear",
          "CartScreenAppear",
          "PaymentScreenSuccessful"
         ]
        }
       ],
       "layout": {
        "template": {
         "data": {
          "bar": [
           {
            "error_x": {
             "color": "#2a3f5f"
            },
            "error_y": {
             "color": "#2a3f5f"
            },
            "marker": {
             "line": {
              "color": "#E5ECF6",
              "width": 0.5
             },
             "pattern": {
              "fillmode": "overlay",
              "size": 10,
              "solidity": 0.2
             }
            },
            "type": "bar"
           }
          ],
          "barpolar": [
           {
            "marker": {
             "line": {
              "color": "#E5ECF6",
              "width": 0.5
             },
             "pattern": {
              "fillmode": "overlay",
              "size": 10,
              "solidity": 0.2
             }
            },
            "type": "barpolar"
           }
          ],
          "carpet": [
           {
            "aaxis": {
             "endlinecolor": "#2a3f5f",
             "gridcolor": "white",
             "linecolor": "white",
             "minorgridcolor": "white",
             "startlinecolor": "#2a3f5f"
            },
            "baxis": {
             "endlinecolor": "#2a3f5f",
             "gridcolor": "white",
             "linecolor": "white",
             "minorgridcolor": "white",
             "startlinecolor": "#2a3f5f"
            },
            "type": "carpet"
           }
          ],
          "choropleth": [
           {
            "colorbar": {
             "outlinewidth": 0,
             "ticks": ""
            },
            "type": "choropleth"
           }
          ],
          "contour": [
           {
            "colorbar": {
             "outlinewidth": 0,
             "ticks": ""
            },
            "colorscale": [
             [
              0,
              "#0d0887"
             ],
             [
              0.1111111111111111,
              "#46039f"
             ],
             [
              0.2222222222222222,
              "#7201a8"
             ],
             [
              0.3333333333333333,
              "#9c179e"
             ],
             [
              0.4444444444444444,
              "#bd3786"
             ],
             [
              0.5555555555555556,
              "#d8576b"
             ],
             [
              0.6666666666666666,
              "#ed7953"
             ],
             [
              0.7777777777777778,
              "#fb9f3a"
             ],
             [
              0.8888888888888888,
              "#fdca26"
             ],
             [
              1,
              "#f0f921"
             ]
            ],
            "type": "contour"
           }
          ],
          "contourcarpet": [
           {
            "colorbar": {
             "outlinewidth": 0,
             "ticks": ""
            },
            "type": "contourcarpet"
           }
          ],
          "heatmap": [
           {
            "colorbar": {
             "outlinewidth": 0,
             "ticks": ""
            },
            "colorscale": [
             [
              0,
              "#0d0887"
             ],
             [
              0.1111111111111111,
              "#46039f"
             ],
             [
              0.2222222222222222,
              "#7201a8"
             ],
             [
              0.3333333333333333,
              "#9c179e"
             ],
             [
              0.4444444444444444,
              "#bd3786"
             ],
             [
              0.5555555555555556,
              "#d8576b"
             ],
             [
              0.6666666666666666,
              "#ed7953"
             ],
             [
              0.7777777777777778,
              "#fb9f3a"
             ],
             [
              0.8888888888888888,
              "#fdca26"
             ],
             [
              1,
              "#f0f921"
             ]
            ],
            "type": "heatmap"
           }
          ],
          "heatmapgl": [
           {
            "colorbar": {
             "outlinewidth": 0,
             "ticks": ""
            },
            "colorscale": [
             [
              0,
              "#0d0887"
             ],
             [
              0.1111111111111111,
              "#46039f"
             ],
             [
              0.2222222222222222,
              "#7201a8"
             ],
             [
              0.3333333333333333,
              "#9c179e"
             ],
             [
              0.4444444444444444,
              "#bd3786"
             ],
             [
              0.5555555555555556,
              "#d8576b"
             ],
             [
              0.6666666666666666,
              "#ed7953"
             ],
             [
              0.7777777777777778,
              "#fb9f3a"
             ],
             [
              0.8888888888888888,
              "#fdca26"
             ],
             [
              1,
              "#f0f921"
             ]
            ],
            "type": "heatmapgl"
           }
          ],
          "histogram": [
           {
            "marker": {
             "pattern": {
              "fillmode": "overlay",
              "size": 10,
              "solidity": 0.2
             }
            },
            "type": "histogram"
           }
          ],
          "histogram2d": [
           {
            "colorbar": {
             "outlinewidth": 0,
             "ticks": ""
            },
            "colorscale": [
             [
              0,
              "#0d0887"
             ],
             [
              0.1111111111111111,
              "#46039f"
             ],
             [
              0.2222222222222222,
              "#7201a8"
             ],
             [
              0.3333333333333333,
              "#9c179e"
             ],
             [
              0.4444444444444444,
              "#bd3786"
             ],
             [
              0.5555555555555556,
              "#d8576b"
             ],
             [
              0.6666666666666666,
              "#ed7953"
             ],
             [
              0.7777777777777778,
              "#fb9f3a"
             ],
             [
              0.8888888888888888,
              "#fdca26"
             ],
             [
              1,
              "#f0f921"
             ]
            ],
            "type": "histogram2d"
           }
          ],
          "histogram2dcontour": [
           {
            "colorbar": {
             "outlinewidth": 0,
             "ticks": ""
            },
            "colorscale": [
             [
              0,
              "#0d0887"
             ],
             [
              0.1111111111111111,
              "#46039f"
             ],
             [
              0.2222222222222222,
              "#7201a8"
             ],
             [
              0.3333333333333333,
              "#9c179e"
             ],
             [
              0.4444444444444444,
              "#bd3786"
             ],
             [
              0.5555555555555556,
              "#d8576b"
             ],
             [
              0.6666666666666666,
              "#ed7953"
             ],
             [
              0.7777777777777778,
              "#fb9f3a"
             ],
             [
              0.8888888888888888,
              "#fdca26"
             ],
             [
              1,
              "#f0f921"
             ]
            ],
            "type": "histogram2dcontour"
           }
          ],
          "mesh3d": [
           {
            "colorbar": {
             "outlinewidth": 0,
             "ticks": ""
            },
            "type": "mesh3d"
           }
          ],
          "parcoords": [
           {
            "line": {
             "colorbar": {
              "outlinewidth": 0,
              "ticks": ""
             }
            },
            "type": "parcoords"
           }
          ],
          "pie": [
           {
            "automargin": true,
            "type": "pie"
           }
          ],
          "scatter": [
           {
            "fillpattern": {
             "fillmode": "overlay",
             "size": 10,
             "solidity": 0.2
            },
            "type": "scatter"
           }
          ],
          "scatter3d": [
           {
            "line": {
             "colorbar": {
              "outlinewidth": 0,
              "ticks": ""
             }
            },
            "marker": {
             "colorbar": {
              "outlinewidth": 0,
              "ticks": ""
             }
            },
            "type": "scatter3d"
           }
          ],
          "scattercarpet": [
           {
            "marker": {
             "colorbar": {
              "outlinewidth": 0,
              "ticks": ""
             }
            },
            "type": "scattercarpet"
           }
          ],
          "scattergeo": [
           {
            "marker": {
             "colorbar": {
              "outlinewidth": 0,
              "ticks": ""
             }
            },
            "type": "scattergeo"
           }
          ],
          "scattergl": [
           {
            "marker": {
             "colorbar": {
              "outlinewidth": 0,
              "ticks": ""
             }
            },
            "type": "scattergl"
           }
          ],
          "scattermapbox": [
           {
            "marker": {
             "colorbar": {
              "outlinewidth": 0,
              "ticks": ""
             }
            },
            "type": "scattermapbox"
           }
          ],
          "scatterpolar": [
           {
            "marker": {
             "colorbar": {
              "outlinewidth": 0,
              "ticks": ""
             }
            },
            "type": "scatterpolar"
           }
          ],
          "scatterpolargl": [
           {
            "marker": {
             "colorbar": {
              "outlinewidth": 0,
              "ticks": ""
             }
            },
            "type": "scatterpolargl"
           }
          ],
          "scatterternary": [
           {
            "marker": {
             "colorbar": {
              "outlinewidth": 0,
              "ticks": ""
             }
            },
            "type": "scatterternary"
           }
          ],
          "surface": [
           {
            "colorbar": {
             "outlinewidth": 0,
             "ticks": ""
            },
            "colorscale": [
             [
              0,
              "#0d0887"
             ],
             [
              0.1111111111111111,
              "#46039f"
             ],
             [
              0.2222222222222222,
              "#7201a8"
             ],
             [
              0.3333333333333333,
              "#9c179e"
             ],
             [
              0.4444444444444444,
              "#bd3786"
             ],
             [
              0.5555555555555556,
              "#d8576b"
             ],
             [
              0.6666666666666666,
              "#ed7953"
             ],
             [
              0.7777777777777778,
              "#fb9f3a"
             ],
             [
              0.8888888888888888,
              "#fdca26"
             ],
             [
              1,
              "#f0f921"
             ]
            ],
            "type": "surface"
           }
          ],
          "table": [
           {
            "cells": {
             "fill": {
              "color": "#EBF0F8"
             },
             "line": {
              "color": "white"
             }
            },
            "header": {
             "fill": {
              "color": "#C8D4E3"
             },
             "line": {
              "color": "white"
             }
            },
            "type": "table"
           }
          ]
         },
         "layout": {
          "annotationdefaults": {
           "arrowcolor": "#2a3f5f",
           "arrowhead": 0,
           "arrowwidth": 1
          },
          "autotypenumbers": "strict",
          "coloraxis": {
           "colorbar": {
            "outlinewidth": 0,
            "ticks": ""
           }
          },
          "colorscale": {
           "diverging": [
            [
             0,
             "#8e0152"
            ],
            [
             0.1,
             "#c51b7d"
            ],
            [
             0.2,
             "#de77ae"
            ],
            [
             0.3,
             "#f1b6da"
            ],
            [
             0.4,
             "#fde0ef"
            ],
            [
             0.5,
             "#f7f7f7"
            ],
            [
             0.6,
             "#e6f5d0"
            ],
            [
             0.7,
             "#b8e186"
            ],
            [
             0.8,
             "#7fbc41"
            ],
            [
             0.9,
             "#4d9221"
            ],
            [
             1,
             "#276419"
            ]
           ],
           "sequential": [
            [
             0,
             "#0d0887"
            ],
            [
             0.1111111111111111,
             "#46039f"
            ],
            [
             0.2222222222222222,
             "#7201a8"
            ],
            [
             0.3333333333333333,
             "#9c179e"
            ],
            [
             0.4444444444444444,
             "#bd3786"
            ],
            [
             0.5555555555555556,
             "#d8576b"
            ],
            [
             0.6666666666666666,
             "#ed7953"
            ],
            [
             0.7777777777777778,
             "#fb9f3a"
            ],
            [
             0.8888888888888888,
             "#fdca26"
            ],
            [
             1,
             "#f0f921"
            ]
           ],
           "sequentialminus": [
            [
             0,
             "#0d0887"
            ],
            [
             0.1111111111111111,
             "#46039f"
            ],
            [
             0.2222222222222222,
             "#7201a8"
            ],
            [
             0.3333333333333333,
             "#9c179e"
            ],
            [
             0.4444444444444444,
             "#bd3786"
            ],
            [
             0.5555555555555556,
             "#d8576b"
            ],
            [
             0.6666666666666666,
             "#ed7953"
            ],
            [
             0.7777777777777778,
             "#fb9f3a"
            ],
            [
             0.8888888888888888,
             "#fdca26"
            ],
            [
             1,
             "#f0f921"
            ]
           ]
          },
          "colorway": [
           "#636efa",
           "#EF553B",
           "#00cc96",
           "#ab63fa",
           "#FFA15A",
           "#19d3f3",
           "#FF6692",
           "#B6E880",
           "#FF97FF",
           "#FECB52"
          ],
          "font": {
           "color": "#2a3f5f"
          },
          "geo": {
           "bgcolor": "white",
           "lakecolor": "white",
           "landcolor": "#E5ECF6",
           "showlakes": true,
           "showland": true,
           "subunitcolor": "white"
          },
          "hoverlabel": {
           "align": "left"
          },
          "hovermode": "closest",
          "mapbox": {
           "style": "light"
          },
          "paper_bgcolor": "white",
          "plot_bgcolor": "#E5ECF6",
          "polar": {
           "angularaxis": {
            "gridcolor": "white",
            "linecolor": "white",
            "ticks": ""
           },
           "bgcolor": "#E5ECF6",
           "radialaxis": {
            "gridcolor": "white",
            "linecolor": "white",
            "ticks": ""
           }
          },
          "scene": {
           "xaxis": {
            "backgroundcolor": "#E5ECF6",
            "gridcolor": "white",
            "gridwidth": 2,
            "linecolor": "white",
            "showbackground": true,
            "ticks": "",
            "zerolinecolor": "white"
           },
           "yaxis": {
            "backgroundcolor": "#E5ECF6",
            "gridcolor": "white",
            "gridwidth": 2,
            "linecolor": "white",
            "showbackground": true,
            "ticks": "",
            "zerolinecolor": "white"
           },
           "zaxis": {
            "backgroundcolor": "#E5ECF6",
            "gridcolor": "white",
            "gridwidth": 2,
            "linecolor": "white",
            "showbackground": true,
            "ticks": "",
            "zerolinecolor": "white"
           }
          },
          "shapedefaults": {
           "line": {
            "color": "#2a3f5f"
           }
          },
          "ternary": {
           "aaxis": {
            "gridcolor": "white",
            "linecolor": "white",
            "ticks": ""
           },
           "baxis": {
            "gridcolor": "white",
            "linecolor": "white",
            "ticks": ""
           },
           "bgcolor": "#E5ECF6",
           "caxis": {
            "gridcolor": "white",
            "linecolor": "white",
            "ticks": ""
           }
          },
          "title": {
           "x": 0.05
          },
          "xaxis": {
           "automargin": true,
           "gridcolor": "white",
           "linecolor": "white",
           "ticks": "",
           "title": {
            "standoff": 15
           },
           "zerolinecolor": "white",
           "zerolinewidth": 2
          },
          "yaxis": {
           "automargin": true,
           "gridcolor": "white",
           "linecolor": "white",
           "ticks": "",
           "title": {
            "standoff": 15
           },
           "zerolinecolor": "white",
           "zerolinewidth": 2
          }
         }
        }
       }
      }
     },
     "metadata": {},
     "output_type": "display_data"
    }
   ],
   "source": [
    "\n",
    "fig = go.Figure(go.Funnel(\n",
    "    y = eventoFunil2['nome'],\n",
    "    x = eventoFunil2['id']\n",
    "    ))\n",
    "fig.show()"
   ]
  },
  {
   "cell_type": "markdown",
   "metadata": {},
   "source": [
    "### conclusões <a id=\"usuarioetapa\"> </a>"
   ]
  },
  {
   "cell_type": "markdown",
   "metadata": {},
   "source": [
    "<span style=\"background-color: lightgreen\"> <font color=green> Perde-se muitos usuarios da primeira para a segunda fase,em outras palavras: muitos usuarios não chegam a abrir a tela da oferta, seja por não terem encontrado o que procuram, seja por algum outro motivo.  \n",
    "    Ainda assim, temos que uma parcela de 47% do total de usuarios unicos chegam a finalizar pelo menos uma compra.   \n",
    "    Quanto aos acessos totais, 28% se convertem em compras."
   ]
  },
  {
   "cell_type": "markdown",
   "metadata": {},
   "source": [
    "[sumario](#sumario)\n",
    "\n",
    "##  Analisando os resultados do experimento <a id=\"experimento\"> </a>"
   ]
  },
  {
   "cell_type": "markdown",
   "metadata": {},
   "source": [
    "<font color='blue'>será que os grupos A1 e A2 são semelhantes? e o grupo B? teria alguma diferença estatisticamente relevante?  \n",
    "hipotese nula: os grupos têm semelhantes comportamentos de usuarios "
   ]
  },
  {
   "cell_type": "markdown",
   "metadata": {},
   "source": [
    "###  usuarios por grupo <a id=\"ug\"> </a>"
   ]
  },
  {
   "cell_type": "code",
   "execution_count": 35,
   "metadata": {},
   "outputs": [
    {
     "data": {
      "text/plain": [
       "grupo\n",
       "248    85747\n",
       "246    80304\n",
       "247    78075\n",
       "Name: count, dtype: int64"
      ]
     },
     "execution_count": 35,
     "metadata": {},
     "output_type": "execute_result"
    }
   ],
   "source": [
    "df['grupo'].value_counts()"
   ]
  },
  {
   "cell_type": "code",
   "execution_count": 36,
   "metadata": {
    "scrolled": true
   },
   "outputs": [
    {
     "data": {
      "text/html": [
       "<div>\n",
       "<style scoped>\n",
       "    .dataframe tbody tr th:only-of-type {\n",
       "        vertical-align: middle;\n",
       "    }\n",
       "\n",
       "    .dataframe tbody tr th {\n",
       "        vertical-align: top;\n",
       "    }\n",
       "\n",
       "    .dataframe thead th {\n",
       "        text-align: right;\n",
       "    }\n",
       "</style>\n",
       "<table border=\"1\" class=\"dataframe\">\n",
       "  <thead>\n",
       "    <tr style=\"text-align: right;\">\n",
       "      <th></th>\n",
       "      <th>id</th>\n",
       "    </tr>\n",
       "    <tr>\n",
       "      <th>grupo</th>\n",
       "      <th></th>\n",
       "    </tr>\n",
       "  </thead>\n",
       "  <tbody>\n",
       "    <tr>\n",
       "      <th>246</th>\n",
       "      <td>2489</td>\n",
       "    </tr>\n",
       "    <tr>\n",
       "      <th>247</th>\n",
       "      <td>2520</td>\n",
       "    </tr>\n",
       "    <tr>\n",
       "      <th>248</th>\n",
       "      <td>2542</td>\n",
       "    </tr>\n",
       "  </tbody>\n",
       "</table>\n",
       "</div>"
      ],
      "text/plain": [
       "         id\n",
       "grupo      \n",
       "246    2489\n",
       "247    2520\n",
       "248    2542"
      ]
     },
     "execution_count": 36,
     "metadata": {},
     "output_type": "execute_result"
    }
   ],
   "source": [
    "df.groupby('grupo').agg({'id':'nunique'})"
   ]
  },
  {
   "cell_type": "code",
   "execution_count": 37,
   "metadata": {},
   "outputs": [
    {
     "data": {
      "text/plain": [
       "1.0285494716618635"
      ]
     },
     "execution_count": 37,
     "metadata": {},
     "output_type": "execute_result"
    }
   ],
   "source": [
    "80304/78075"
   ]
  },
  {
   "cell_type": "markdown",
   "metadata": {},
   "source": [
    "temos uma quantidade de usuarios muito similar entre os grupos, temos uma quantidade de  eventos similares entre os grupos AA (uma diferença de menos de 3%)"
   ]
  },
  {
   "cell_type": "code",
   "execution_count": 38,
   "metadata": {},
   "outputs": [],
   "source": [
    "g246=df[df['grupo']== 246]\n",
    "g247=df[df['grupo']== 247]\n",
    "g248=df[df['grupo']== 248]"
   ]
  },
  {
   "cell_type": "code",
   "execution_count": 39,
   "metadata": {
    "scrolled": true
   },
   "outputs": [
    {
     "data": {
      "text/html": [
       "<div>\n",
       "<style scoped>\n",
       "    .dataframe tbody tr th:only-of-type {\n",
       "        vertical-align: middle;\n",
       "    }\n",
       "\n",
       "    .dataframe tbody tr th {\n",
       "        vertical-align: top;\n",
       "    }\n",
       "\n",
       "    .dataframe thead th {\n",
       "        text-align: right;\n",
       "    }\n",
       "</style>\n",
       "<table border=\"1\" class=\"dataframe\">\n",
       "  <thead>\n",
       "    <tr style=\"text-align: right;\">\n",
       "      <th></th>\n",
       "      <th>nome</th>\n",
       "      <th>id</th>\n",
       "      <th>grupo</th>\n",
       "      <th>dataHora</th>\n",
       "      <th>hora</th>\n",
       "      <th>data</th>\n",
       "      <th>dia</th>\n",
       "    </tr>\n",
       "  </thead>\n",
       "  <tbody>\n",
       "  </tbody>\n",
       "</table>\n",
       "</div>"
      ],
      "text/plain": [
       "Empty DataFrame\n",
       "Columns: [nome, id, grupo, dataHora, hora, data, dia]\n",
       "Index: []"
      ]
     },
     "execution_count": 39,
     "metadata": {},
     "output_type": "execute_result"
    }
   ],
   "source": [
    "g248[g248['id'].isin(g246['id'])]\n",
    "g247[g247['id'].isin(g246['id'])]\n",
    "g248[g248['id'].isin(g247['id'])]"
   ]
  },
  {
   "cell_type": "markdown",
   "metadata": {},
   "source": [
    "###  testeA/A <a id=\"aa\"> </a>"
   ]
  },
  {
   "cell_type": "code",
   "execution_count": 40,
   "metadata": {},
   "outputs": [],
   "source": [
    "grupoA1=g246\n",
    "grupoA2=g247\n",
    "grupoB=g248"
   ]
  },
  {
   "cell_type": "code",
   "execution_count": 41,
   "metadata": {
    "scrolled": true
   },
   "outputs": [
    {
     "data": {
      "text/plain": [
       "nome\n",
       "MainScreenAppear           38281\n",
       "OffersScreenAppear         14910\n",
       "CartScreenAppear           14819\n",
       "PaymentScreenSuccessful    11970\n",
       "Tutorial                     324\n",
       "Name: count, dtype: int64"
      ]
     },
     "execution_count": 41,
     "metadata": {},
     "output_type": "execute_result"
    }
   ],
   "source": [
    "grupoA1['nome'].value_counts()"
   ]
  },
  {
   "cell_type": "code",
   "execution_count": 42,
   "metadata": {},
   "outputs": [
    {
     "data": {
      "text/plain": [
       "nome\n",
       "MainScreenAppear           39710\n",
       "OffersScreenAppear         15344\n",
       "CartScreenAppear           12570\n",
       "PaymentScreenSuccessful    10101\n",
       "Tutorial                     350\n",
       "Name: count, dtype: int64"
      ]
     },
     "execution_count": 42,
     "metadata": {},
     "output_type": "execute_result"
    }
   ],
   "source": [
    "grupoA2['nome'].value_counts()"
   ]
  },
  {
   "cell_type": "markdown",
   "metadata": {},
   "source": [
    "####  teste usuarios por evento <a id=\"tue\"> </a>"
   ]
  },
  {
   "cell_type": "code",
   "execution_count": 43,
   "metadata": {},
   "outputs": [],
   "source": [
    "#primeiro vamos agrupar os dados filtrados por evento: \n",
    "grupoA1funil=grupoA1.groupby('nome').agg({'id':'nunique'}).reset_index().sort_values(by='id', ascending=False)\n",
    "grupoA2funil=grupoA2.groupby('nome').agg({'id':'nunique'}).reset_index().sort_values(by='id', ascending=False)\n",
    "grupoBfunil=grupoB.groupby('nome').agg({'id':'nunique'}).reset_index().sort_values(by='id', ascending=False)\n"
   ]
  },
  {
   "cell_type": "code",
   "execution_count": 44,
   "metadata": {},
   "outputs": [],
   "source": [
    "#aogra vamos extrair a quantidade total de usuarios e a quantidade de usuarios que ativaram o evento alvo para cada grupo:\n",
    "\n",
    "#A1\n",
    "#TOTAL\n",
    "totalA1=len(grupoA1['id'].unique())\n",
    "#EVENTO1\n",
    "Ev1A1=grupoA1funil.loc[1,'id']\n",
    "#EVENTO2\n",
    "Ev2A1=grupoA1funil.loc[2,'id']\n",
    "#EVENTO3\n",
    "Ev3A1=grupoA1funil.loc[3,'id']\n",
    "#EVENTO4\n",
    "Ev4A1=grupoA1funil.loc[4,'id']\n",
    "\n",
    "#A2\n",
    "totalA2=len(grupoA2['id'].unique())\n",
    "Ev1A2=grupoA2funil.loc[1,'id']\n",
    "Ev2A2=grupoA2funil.loc[2,'id']\n",
    "Ev3A2=grupoA2funil.loc[3,'id']\n",
    "Ev4A2=grupoA2funil.loc[4,'id']\n",
    "\n",
    "#B\n",
    "totalB=len(grupoB['id'].unique())\n",
    "Ev1B=grupoBfunil.loc[1,'id']\n",
    "Ev2B=grupoBfunil.loc[2,'id']\n",
    "Ev3B=grupoBfunil.loc[3,'id']\n",
    "Ev4B=grupoBfunil.loc[4,'id']"
   ]
  },
  {
   "cell_type": "markdown",
   "metadata": {},
   "source": [
    "<font color='blue'>\n",
    "aogra criamos uma formula com o teste z_teste para testarmos as proporções entre as populações amostrais   \n",
    "consideraremos alpha como 0.05 por padrão, ou seja estabelecemos uma margem máxima de 5% de chance de incorrer em erro do tipo 1 \n",
    ", o que corresponderia a rejeitar a hipotese nula, sendo ela verdadeira."
   ]
  },
  {
   "cell_type": "code",
   "execution_count": 45,
   "metadata": {},
   "outputs": [
    {
     "name": "stdout",
     "output_type": "stream",
     "text": [
      "                      nome    id\n",
      "1         MainScreenAppear  2501\n",
      "2       OffersScreenAppear  1538\n",
      "0         CartScreenAppear  1239\n",
      "3  PaymentScreenSuccessful  1185\n",
      "4                 Tutorial   282\n"
     ]
    }
   ],
   "source": [
    "print(grupoBfunil)"
   ]
  },
  {
   "cell_type": "code",
   "execution_count": 46,
   "metadata": {},
   "outputs": [],
   "source": [
    "\n",
    "def z_teste(successes1, successes2, trials1, trials2, alpha=0.05):\n",
    "    p1 = successes1/trials1\n",
    "    p2 = successes2/trials2\n",
    "    p_combined = (successes1 + successes2) / (trials1 + trials2)\n",
    "\n",
    "    difference = p1 - p2\n",
    "    \n",
    "    distr = stats.norm(0, 1) \n",
    "\n",
    "    z_value = difference / math.sqrt(p_combined * (1 - p_combined) * (1/trials1 + 1/trials2))\n",
    "    p_value = (1 - distr.cdf(abs(z_value))) * 2\n",
    "\n",
    "    print('p-value: ', p_value)\n",
    "    if (p_value < alpha):\n",
    "        print(\"Rejeitamos a hipotese nula: existe diferença estatistica significante\")\n",
    "    else:\n",
    "        print(\"Não foi possível rejeitar a hipótese nula, não há motivo para considerar as proporções diferentes.\")  "
   ]
  },
  {
   "cell_type": "code",
   "execution_count": 47,
   "metadata": {
    "scrolled": true
   },
   "outputs": [],
   "source": [
    "#agora é só chamar a função com os parametros desejados:"
   ]
  },
  {
   "cell_type": "markdown",
   "metadata": {},
   "source": [
    "#####  teste estatistico evento mais popular <a id=\"tep\"> </a>"
   ]
  },
  {
   "cell_type": "code",
   "execution_count": 48,
   "metadata": {
    "scrolled": true
   },
   "outputs": [
    {
     "name": "stdout",
     "output_type": "stream",
     "text": [
      "p-value:  0.5856639791209877\n",
      "Não foi possível rejeitar a hipótese nula, não há motivo para considerar as proporções diferentes.\n"
     ]
    }
   ],
   "source": [
    "#teste A/A\n",
    "z_teste(Ev1A1,Ev1A2,totalA1,totalA2)"
   ]
  },
  {
   "cell_type": "markdown",
   "metadata": {},
   "source": [
    "#####  teste estatistico universal <a id=\"teu\"> </a>"
   ]
  },
  {
   "cell_type": "code",
   "execution_count": 49,
   "metadata": {
    "scrolled": true
   },
   "outputs": [
    {
     "name": "stdout",
     "output_type": "stream",
     "text": [
      "p-value:  0.3233225048227193\n",
      "Não foi possível rejeitar a hipótese nula, não há motivo para considerar as proporções diferentes.\n",
      "p-value:  0.10902546202332886\n",
      "Não foi possível rejeitar a hipótese nula, não há motivo para considerar as proporções diferentes.\n",
      "p-value:  0.8756574258016974\n",
      "Não foi possível rejeitar a hipótese nula, não há motivo para considerar as proporções diferentes.\n"
     ]
    }
   ],
   "source": [
    "z_teste(Ev2A1,Ev2A2,totalA1,totalA2)\n",
    "z_teste(Ev3A1,Ev3A2,totalA1,totalA2)\n",
    "z_teste(Ev4A1,Ev4A2,totalA1,totalA2)"
   ]
  },
  {
   "cell_type": "markdown",
   "metadata": {},
   "source": [
    "\n",
    "<font color='green'>\n",
    "os grupos foram corretamente divididos."
   ]
  },
  {
   "cell_type": "markdown",
   "metadata": {},
   "source": [
    "###  testeA/B <a id=\"ab\"> </a>"
   ]
  },
  {
   "cell_type": "markdown",
   "metadata": {},
   "source": [
    "####  teste estatistico evento mais popular <a id=\"tep2\"> </a>"
   ]
  },
  {
   "cell_type": "code",
   "execution_count": 50,
   "metadata": {},
   "outputs": [
    {
     "name": "stdout",
     "output_type": "stream",
     "text": [
      "p-value:  0.39774960182882513\n",
      "Não foi possível rejeitar a hipótese nula, não há motivo para considerar as proporções diferentes.\n",
      "p-value:  0.7632160970326178\n",
      "Não foi possível rejeitar a hipótese nula, não há motivo para considerar as proporções diferentes.\n"
     ]
    }
   ],
   "source": [
    "#teste A/B\n",
    "z_teste(Ev1B,Ev1A1,totalB,totalA1)\n",
    "z_teste(Ev1B,Ev1A2,totalB,totalA2)\n"
   ]
  },
  {
   "cell_type": "markdown",
   "metadata": {},
   "source": [
    "####  teste estatistico universal <a id=\"teu2\"> </a>"
   ]
  },
  {
   "cell_type": "code",
   "execution_count": 51,
   "metadata": {},
   "outputs": [
    {
     "name": "stdout",
     "output_type": "stream",
     "text": [
      "p-value:  0.2531656758489338\n",
      "Não foi possível rejeitar a hipótese nula, não há motivo para considerar as proporções diferentes.\n",
      "p-value:  0.23403912852637143\n",
      "Não foi possível rejeitar a hipótese nula, não há motivo para considerar as proporções diferentes.\n",
      "p-value:  0.8962914725257976\n",
      "Não foi possível rejeitar a hipótese nula, não há motivo para considerar as proporções diferentes.\n"
     ]
    }
   ],
   "source": [
    "#A1\n",
    "z_teste(Ev2B,Ev2A1,totalB,totalA1)\n",
    "z_teste(Ev3B,Ev3A1,totalB,totalA1)\n",
    "z_teste(Ev4B,Ev4A1,totalB,totalA1)"
   ]
  },
  {
   "cell_type": "code",
   "execution_count": 52,
   "metadata": {},
   "outputs": [
    {
     "name": "stdout",
     "output_type": "stream",
     "text": [
      "p-value:  0.878057445632423\n",
      "Não foi possível rejeitar a hipótese nula, não há motivo para considerar as proporções diferentes.\n",
      "p-value:  0.6763830984465451\n",
      "Não foi possível rejeitar a hipótese nula, não há motivo para considerar as proporções diferentes.\n",
      "p-value:  0.773300249936147\n",
      "Não foi possível rejeitar a hipótese nula, não há motivo para considerar as proporções diferentes.\n"
     ]
    }
   ],
   "source": [
    "#A2\n",
    "z_teste(Ev2B,Ev2A2,totalB,totalA2)\n",
    "z_teste(Ev3B,Ev3A2,totalB,totalA2)\n",
    "z_teste(Ev4B,Ev4A2,totalB,totalA2)"
   ]
  },
  {
   "cell_type": "markdown",
   "metadata": {},
   "source": [
    "####  conclusões sobre divisao dos grupos <a id=\"cdg2\"> </a>"
   ]
  },
  {
   "cell_type": "markdown",
   "metadata": {},
   "source": [
    "<font color='green'>ao que parece os grupos foram muito bem divididos, com tamanhos semelhantes, entretanto não se encontrou diferença estatistica entre qualquer deles"
   ]
  },
  {
   "cell_type": "markdown",
   "metadata": {},
   "source": [
    "###  redefinição estatistica <a id=\"re\"> </a>"
   ]
  },
  {
   "cell_type": "markdown",
   "metadata": {},
   "source": [
    "<font color ='blue'>bom, usamos muitas comparações nos nossos testes, o que torna maiores as chances de encontrar erros do tipo1, em razão disso, poderá ser necessário reajustar nosso alpha, dentre muitos outros, temos dois metodos famosos de correção:"
   ]
  },
  {
   "cell_type": "markdown",
   "metadata": {},
   "source": [
    "\n",
    "Correção de Bonferroni\n",
    "\n",
    "<font color = \"darkgreen\">pcorrigido = poriginal ÷k</font>\n",
    "\n",
    "k é o número total de comparações.\n",
    "\n",
    "\n"
   ]
  },
  {
   "cell_type": "markdown",
   "metadata": {},
   "source": [
    "O método de Šidák:  \n",
    "pcorrigido=1−(1−poriginal)^1/m  \n",
    "m é o número total de comparações.\n"
   ]
  },
  {
   "cell_type": "markdown",
   "metadata": {},
   "source": [
    "usarei o de Bonferroni, portanto primeiramente calculamos quantas comparações foram feitas: 12!   \n",
    "4 entre A1 e A2; 4 entre B e A1 e o resto entre B e A2   \n",
    "após, estimamos quanto será e significancia final almejada: 0.1 ou 10%\n",
    "por fim calculamos quanto será corrigido\n",
    "pcorrigido= 1-(1-0.1)^1/12\n",
    "agora é só rodar o calculo e apanhar o resultado"
   ]
  },
  {
   "cell_type": "code",
   "execution_count": 53,
   "metadata": {},
   "outputs": [
    {
     "data": {
      "text/plain": [
       "0.008741610954696721"
      ]
     },
     "execution_count": 53,
     "metadata": {},
     "output_type": "execute_result"
    }
   ],
   "source": [
    "pcorrigido= 1-(1-0.1)**(1/12)\n",
    "pcorrigido"
   ]
  },
  {
   "cell_type": "markdown",
   "metadata": {},
   "source": [
    "[sumario](#sumario)\n",
    "\n",
    "###  explicações e conclusões <a id=\"exp\"> </a>"
   ]
  },
  {
   "cell_type": "markdown",
   "metadata": {},
   "source": [
    " <font color= 'green'>Para evitarmos erros do tipo I deveriamos usar alpha em 0.008 ou seja 0.8%   \n",
    "entretanto como não rejeitamos a hipotese nula nenhuma vez com o alpha maior, ao usarmos o alpha menor, obteremos o mesmo resultado, portanto a conclusão é de que **não há variação estatisticamente significante entre as amostras**"
   ]
  }
 ],
 "metadata": {
  "kernelspec": {
   "display_name": "Python 3 (ipykernel)",
   "language": "python",
   "name": "python3"
  },
  "language_info": {
   "codemirror_mode": {
    "name": "ipython",
    "version": 3
   },
   "file_extension": ".py",
   "mimetype": "text/x-python",
   "name": "python",
   "nbconvert_exporter": "python",
   "pygments_lexer": "ipython3",
   "version": "3.11.5"
  },
  "toc": {
   "base_numbering": 1,
   "nav_menu": {},
   "number_sections": true,
   "sideBar": true,
   "skip_h1_title": true,
   "title_cell": "Table of Contents",
   "title_sidebar": "Contents",
   "toc_cell": false,
   "toc_position": {},
   "toc_section_display": true,
   "toc_window_display": false
  }
 },
 "nbformat": 4,
 "nbformat_minor": 2
}
